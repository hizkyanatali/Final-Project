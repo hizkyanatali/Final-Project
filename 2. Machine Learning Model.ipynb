{
 "cells": [
  {
   "cell_type": "code",
   "execution_count": 1,
   "metadata": {},
   "outputs": [],
   "source": [
    "import numpy as np\n",
    "import pandas as pd\n",
    "import matplotlib.pyplot as plt\n",
    "import seaborn as sns\n",
    "import warnings\n",
    "warnings.filterwarnings('ignore')\n",
    "\n",
    "from sklearn.neighbors import KNeighborsClassifier\n",
    "from sklearn.svm import SVC\n",
    "from sklearn.ensemble import RandomForestClassifier\n",
    "from xgboost import XGBClassifier\n",
    "from sklearn.linear_model import LogisticRegression\n",
    "from sklearn.tree import DecisionTreeClassifier\n",
    "\n",
    "from sklearn.metrics import recall_score, precision_score, confusion_matrix, classification_report, roc_auc_score\n",
    "from sklearn.preprocessing import RobustScaler, OneHotEncoder\n",
    "from sklearn.pipeline import Pipeline\n",
    "from sklearn.compose import ColumnTransformer\n",
    "from sklearn.utils import resample\n",
    "\n",
    "from sklearn.model_selection import train_test_split, StratifiedKFold, GridSearchCV, RandomizedSearchCV\n",
    "\n",
    "import joblib"
   ]
  },
  {
   "cell_type": "markdown",
   "metadata": {},
   "source": [
    "https://www.kaggle.com/volodymyrgavrysh/bank-marketing-campaigns-dataset"
   ]
  },
  {
   "cell_type": "markdown",
   "metadata": {},
   "source": [
    "# Features Description\n",
    "\n",
    "### bank client data:\n",
    "- __age__\n",
    "- __job__ : type of job (categorical: \"admin.\",\"blue-collar\",\"entrepreneur\",...,\"unknown\")\n",
    "- __marital__ : marital status (categorical: \"divorced\",\"married\",\"single\",\"unknown\")\n",
    "- __education__ : (categorical: \"illiterate\",...,\"university.degree\",\"unknown\")\n",
    "- __default__: has credit in default? (categorical: \"no\",\"yes\",\"unknown\")\n",
    "- __housing__: has housing loan? (categorical: \"no\",\"yes\",\"unknown\")\n",
    "- __loan__: has personal loan? (categorical: \"no\",\"yes\",\"unknown\")\n",
    "    \n",
    "### related with the last contact of the current campaign:\n",
    "- __contact__: contact communication type (categorical: \"cellular\",\"telephone\")\n",
    "- __month__: last contact month of year (categorical: \"jan\", …, \"nov\", \"dec\")\n",
    "- __dayofweek__: last contact day of the week (categorical: \"mon\",\"tue\",...)\n",
    "- __duration__: last contact duration, in seconds (numeric).\n",
    "    - __Important note__: this attribute highly affects the output target (e.g., if duration=0 then y=\"no\"). , Can not get this feature before the campaign\n",
    "\n",
    "### other attributes:\n",
    "- __campaign__: number of contacts performed during this campaign and for this client (numeric, includes last contact)\n",
    "    - __Important note__: Can not get this feature before the campaign\n",
    "- __pdays__: number of days that passed by after the client was last contacted from a previous campaign (numeric; 999 means client was not previously contacted)\n",
    "- __previous__: number of contacts performed before this campaign and for this client (numeric)\n",
    "- __poutcome__: outcome of the previous marketing campaign (categorical: \"failure\",\"nonexistent\",\"success\")\n",
    "\n",
    "### social and economic context attributes\n",
    "- __emp.var.rate__: employment variation rate - quarterly indicator (numeric)\n",
    "- __cons.price.idx__: consumer price index - monthly indicator (changes in the price level of a weighted average __market basket__ of consumer goods and services purchased by households, affect inflation (numeric))\n",
    "- __cons.conf.idx__: consumer confidence index - monthly indicator (degree of __consumers optimism__ are expressing through their activities of savings and spending. affect consumer behavior (numeric))\n",
    "- __euribor3m__: euribor 3 month rate - daily indicator (Euribor (euro interbank offered rate) (numeric))\n",
    "- __nr.employed__: number of employees - quarterly indicator (Number of employed persons for a quarter (numeric))\n",
    "\n",
    "### Output variable (desired target):\n",
    "- __y__ - has the client subscribed a term deposit? (binary: \"yes\",\"no\")"
   ]
  },
  {
   "cell_type": "markdown",
   "metadata": {},
   "source": [
    "# GOALS \n",
    "\n",
    "1. __Reduce False Positive__ \n",
    "2. __Increase Precision for y='yes'__"
   ]
  },
  {
   "cell_type": "markdown",
   "metadata": {},
   "source": [
    "# DATA PREPROCESSING"
   ]
  },
  {
   "cell_type": "code",
   "execution_count": 2,
   "metadata": {},
   "outputs": [
    {
     "data": {
      "text/html": [
       "<div>\n",
       "<style scoped>\n",
       "    .dataframe tbody tr th:only-of-type {\n",
       "        vertical-align: middle;\n",
       "    }\n",
       "\n",
       "    .dataframe tbody tr th {\n",
       "        vertical-align: top;\n",
       "    }\n",
       "\n",
       "    .dataframe thead th {\n",
       "        text-align: right;\n",
       "    }\n",
       "</style>\n",
       "<table border=\"1\" class=\"dataframe\">\n",
       "  <thead>\n",
       "    <tr style=\"text-align: right;\">\n",
       "      <th></th>\n",
       "      <th>age</th>\n",
       "      <th>job</th>\n",
       "      <th>marital</th>\n",
       "      <th>education</th>\n",
       "      <th>default</th>\n",
       "      <th>housing</th>\n",
       "      <th>loan</th>\n",
       "      <th>contact</th>\n",
       "      <th>month</th>\n",
       "      <th>day_of_week</th>\n",
       "      <th>...</th>\n",
       "      <th>campaign</th>\n",
       "      <th>pdays</th>\n",
       "      <th>previous</th>\n",
       "      <th>poutcome</th>\n",
       "      <th>emp.var.rate</th>\n",
       "      <th>cons.price.idx</th>\n",
       "      <th>cons.conf.idx</th>\n",
       "      <th>euribor3m</th>\n",
       "      <th>nr.employed</th>\n",
       "      <th>y</th>\n",
       "    </tr>\n",
       "  </thead>\n",
       "  <tbody>\n",
       "    <tr>\n",
       "      <th>0</th>\n",
       "      <td>56</td>\n",
       "      <td>housemaid</td>\n",
       "      <td>married</td>\n",
       "      <td>basic.4y</td>\n",
       "      <td>no</td>\n",
       "      <td>no</td>\n",
       "      <td>no</td>\n",
       "      <td>telephone</td>\n",
       "      <td>may</td>\n",
       "      <td>mon</td>\n",
       "      <td>...</td>\n",
       "      <td>1</td>\n",
       "      <td>999</td>\n",
       "      <td>0</td>\n",
       "      <td>nonexistent</td>\n",
       "      <td>1.1</td>\n",
       "      <td>93.994</td>\n",
       "      <td>-36.4</td>\n",
       "      <td>4.857</td>\n",
       "      <td>5191.0</td>\n",
       "      <td>no</td>\n",
       "    </tr>\n",
       "    <tr>\n",
       "      <th>1</th>\n",
       "      <td>57</td>\n",
       "      <td>services</td>\n",
       "      <td>married</td>\n",
       "      <td>high.school</td>\n",
       "      <td>unknown</td>\n",
       "      <td>no</td>\n",
       "      <td>no</td>\n",
       "      <td>telephone</td>\n",
       "      <td>may</td>\n",
       "      <td>mon</td>\n",
       "      <td>...</td>\n",
       "      <td>1</td>\n",
       "      <td>999</td>\n",
       "      <td>0</td>\n",
       "      <td>nonexistent</td>\n",
       "      <td>1.1</td>\n",
       "      <td>93.994</td>\n",
       "      <td>-36.4</td>\n",
       "      <td>4.857</td>\n",
       "      <td>5191.0</td>\n",
       "      <td>no</td>\n",
       "    </tr>\n",
       "    <tr>\n",
       "      <th>2</th>\n",
       "      <td>37</td>\n",
       "      <td>services</td>\n",
       "      <td>married</td>\n",
       "      <td>high.school</td>\n",
       "      <td>no</td>\n",
       "      <td>yes</td>\n",
       "      <td>no</td>\n",
       "      <td>telephone</td>\n",
       "      <td>may</td>\n",
       "      <td>mon</td>\n",
       "      <td>...</td>\n",
       "      <td>1</td>\n",
       "      <td>999</td>\n",
       "      <td>0</td>\n",
       "      <td>nonexistent</td>\n",
       "      <td>1.1</td>\n",
       "      <td>93.994</td>\n",
       "      <td>-36.4</td>\n",
       "      <td>4.857</td>\n",
       "      <td>5191.0</td>\n",
       "      <td>no</td>\n",
       "    </tr>\n",
       "    <tr>\n",
       "      <th>3</th>\n",
       "      <td>40</td>\n",
       "      <td>admin.</td>\n",
       "      <td>married</td>\n",
       "      <td>basic.6y</td>\n",
       "      <td>no</td>\n",
       "      <td>no</td>\n",
       "      <td>no</td>\n",
       "      <td>telephone</td>\n",
       "      <td>may</td>\n",
       "      <td>mon</td>\n",
       "      <td>...</td>\n",
       "      <td>1</td>\n",
       "      <td>999</td>\n",
       "      <td>0</td>\n",
       "      <td>nonexistent</td>\n",
       "      <td>1.1</td>\n",
       "      <td>93.994</td>\n",
       "      <td>-36.4</td>\n",
       "      <td>4.857</td>\n",
       "      <td>5191.0</td>\n",
       "      <td>no</td>\n",
       "    </tr>\n",
       "    <tr>\n",
       "      <th>4</th>\n",
       "      <td>56</td>\n",
       "      <td>services</td>\n",
       "      <td>married</td>\n",
       "      <td>high.school</td>\n",
       "      <td>no</td>\n",
       "      <td>no</td>\n",
       "      <td>yes</td>\n",
       "      <td>telephone</td>\n",
       "      <td>may</td>\n",
       "      <td>mon</td>\n",
       "      <td>...</td>\n",
       "      <td>1</td>\n",
       "      <td>999</td>\n",
       "      <td>0</td>\n",
       "      <td>nonexistent</td>\n",
       "      <td>1.1</td>\n",
       "      <td>93.994</td>\n",
       "      <td>-36.4</td>\n",
       "      <td>4.857</td>\n",
       "      <td>5191.0</td>\n",
       "      <td>no</td>\n",
       "    </tr>\n",
       "  </tbody>\n",
       "</table>\n",
       "<p>5 rows × 21 columns</p>\n",
       "</div>"
      ],
      "text/plain": [
       "   age        job  marital    education  default housing loan    contact  \\\n",
       "0   56  housemaid  married     basic.4y       no      no   no  telephone   \n",
       "1   57   services  married  high.school  unknown      no   no  telephone   \n",
       "2   37   services  married  high.school       no     yes   no  telephone   \n",
       "3   40     admin.  married     basic.6y       no      no   no  telephone   \n",
       "4   56   services  married  high.school       no      no  yes  telephone   \n",
       "\n",
       "  month day_of_week  ...  campaign  pdays  previous     poutcome emp.var.rate  \\\n",
       "0   may         mon  ...         1    999         0  nonexistent          1.1   \n",
       "1   may         mon  ...         1    999         0  nonexistent          1.1   \n",
       "2   may         mon  ...         1    999         0  nonexistent          1.1   \n",
       "3   may         mon  ...         1    999         0  nonexistent          1.1   \n",
       "4   may         mon  ...         1    999         0  nonexistent          1.1   \n",
       "\n",
       "   cons.price.idx  cons.conf.idx  euribor3m  nr.employed   y  \n",
       "0          93.994          -36.4      4.857       5191.0  no  \n",
       "1          93.994          -36.4      4.857       5191.0  no  \n",
       "2          93.994          -36.4      4.857       5191.0  no  \n",
       "3          93.994          -36.4      4.857       5191.0  no  \n",
       "4          93.994          -36.4      4.857       5191.0  no  \n",
       "\n",
       "[5 rows x 21 columns]"
      ]
     },
     "execution_count": 2,
     "metadata": {},
     "output_type": "execute_result"
    }
   ],
   "source": [
    "## Read data from csv\n",
    "\n",
    "df = pd.read_csv('bank-additional-full.csv', sep=';')\n",
    "df.head()"
   ]
  },
  {
   "cell_type": "code",
   "execution_count": 3,
   "metadata": {},
   "outputs": [],
   "source": [
    "# change value format in education column\n",
    "\n",
    "df.education = df.education.apply(lambda x : x.replace(\".\", \" \"))"
   ]
  },
  {
   "cell_type": "code",
   "execution_count": 4,
   "metadata": {},
   "outputs": [],
   "source": [
    "# drop columns that we can not get if we use the model before the campaign\n",
    "\n",
    "df_1 = df.drop(columns=['duration', 'campaign'\n",
    "#                         , 'emp.var.rate', 'nr.employed', 'day_of_week', 'housing'\n",
    "                       ])"
   ]
  },
  {
   "cell_type": "code",
   "execution_count": 5,
   "metadata": {},
   "outputs": [
    {
     "data": {
      "text/html": [
       "<div>\n",
       "<style scoped>\n",
       "    .dataframe tbody tr th:only-of-type {\n",
       "        vertical-align: middle;\n",
       "    }\n",
       "\n",
       "    .dataframe tbody tr th {\n",
       "        vertical-align: top;\n",
       "    }\n",
       "\n",
       "    .dataframe thead th {\n",
       "        text-align: right;\n",
       "    }\n",
       "</style>\n",
       "<table border=\"1\" class=\"dataframe\">\n",
       "  <thead>\n",
       "    <tr style=\"text-align: right;\">\n",
       "      <th></th>\n",
       "      <th>age</th>\n",
       "      <th>job</th>\n",
       "      <th>marital</th>\n",
       "      <th>education</th>\n",
       "      <th>default</th>\n",
       "      <th>housing</th>\n",
       "      <th>loan</th>\n",
       "      <th>contact</th>\n",
       "      <th>month</th>\n",
       "      <th>day_of_week</th>\n",
       "      <th>pdays</th>\n",
       "      <th>previous</th>\n",
       "      <th>poutcome</th>\n",
       "      <th>emp.var.rate</th>\n",
       "      <th>cons.price.idx</th>\n",
       "      <th>cons.conf.idx</th>\n",
       "      <th>euribor3m</th>\n",
       "      <th>nr.employed</th>\n",
       "      <th>y</th>\n",
       "    </tr>\n",
       "  </thead>\n",
       "  <tbody>\n",
       "    <tr>\n",
       "      <th>0</th>\n",
       "      <td>56</td>\n",
       "      <td>housemaid</td>\n",
       "      <td>married</td>\n",
       "      <td>basic 4y</td>\n",
       "      <td>no</td>\n",
       "      <td>no</td>\n",
       "      <td>no</td>\n",
       "      <td>telephone</td>\n",
       "      <td>may</td>\n",
       "      <td>mon</td>\n",
       "      <td>999</td>\n",
       "      <td>0</td>\n",
       "      <td>nonexistent</td>\n",
       "      <td>1.1</td>\n",
       "      <td>93.994</td>\n",
       "      <td>-36.4</td>\n",
       "      <td>4.857</td>\n",
       "      <td>5191.0</td>\n",
       "      <td>no</td>\n",
       "    </tr>\n",
       "    <tr>\n",
       "      <th>1</th>\n",
       "      <td>57</td>\n",
       "      <td>services</td>\n",
       "      <td>married</td>\n",
       "      <td>high school</td>\n",
       "      <td>unknown</td>\n",
       "      <td>no</td>\n",
       "      <td>no</td>\n",
       "      <td>telephone</td>\n",
       "      <td>may</td>\n",
       "      <td>mon</td>\n",
       "      <td>999</td>\n",
       "      <td>0</td>\n",
       "      <td>nonexistent</td>\n",
       "      <td>1.1</td>\n",
       "      <td>93.994</td>\n",
       "      <td>-36.4</td>\n",
       "      <td>4.857</td>\n",
       "      <td>5191.0</td>\n",
       "      <td>no</td>\n",
       "    </tr>\n",
       "    <tr>\n",
       "      <th>2</th>\n",
       "      <td>37</td>\n",
       "      <td>services</td>\n",
       "      <td>married</td>\n",
       "      <td>high school</td>\n",
       "      <td>no</td>\n",
       "      <td>yes</td>\n",
       "      <td>no</td>\n",
       "      <td>telephone</td>\n",
       "      <td>may</td>\n",
       "      <td>mon</td>\n",
       "      <td>999</td>\n",
       "      <td>0</td>\n",
       "      <td>nonexistent</td>\n",
       "      <td>1.1</td>\n",
       "      <td>93.994</td>\n",
       "      <td>-36.4</td>\n",
       "      <td>4.857</td>\n",
       "      <td>5191.0</td>\n",
       "      <td>no</td>\n",
       "    </tr>\n",
       "    <tr>\n",
       "      <th>3</th>\n",
       "      <td>40</td>\n",
       "      <td>admin.</td>\n",
       "      <td>married</td>\n",
       "      <td>basic 6y</td>\n",
       "      <td>no</td>\n",
       "      <td>no</td>\n",
       "      <td>no</td>\n",
       "      <td>telephone</td>\n",
       "      <td>may</td>\n",
       "      <td>mon</td>\n",
       "      <td>999</td>\n",
       "      <td>0</td>\n",
       "      <td>nonexistent</td>\n",
       "      <td>1.1</td>\n",
       "      <td>93.994</td>\n",
       "      <td>-36.4</td>\n",
       "      <td>4.857</td>\n",
       "      <td>5191.0</td>\n",
       "      <td>no</td>\n",
       "    </tr>\n",
       "    <tr>\n",
       "      <th>4</th>\n",
       "      <td>56</td>\n",
       "      <td>services</td>\n",
       "      <td>married</td>\n",
       "      <td>high school</td>\n",
       "      <td>no</td>\n",
       "      <td>no</td>\n",
       "      <td>yes</td>\n",
       "      <td>telephone</td>\n",
       "      <td>may</td>\n",
       "      <td>mon</td>\n",
       "      <td>999</td>\n",
       "      <td>0</td>\n",
       "      <td>nonexistent</td>\n",
       "      <td>1.1</td>\n",
       "      <td>93.994</td>\n",
       "      <td>-36.4</td>\n",
       "      <td>4.857</td>\n",
       "      <td>5191.0</td>\n",
       "      <td>no</td>\n",
       "    </tr>\n",
       "  </tbody>\n",
       "</table>\n",
       "</div>"
      ],
      "text/plain": [
       "   age        job  marital    education  default housing loan    contact  \\\n",
       "0   56  housemaid  married     basic 4y       no      no   no  telephone   \n",
       "1   57   services  married  high school  unknown      no   no  telephone   \n",
       "2   37   services  married  high school       no     yes   no  telephone   \n",
       "3   40     admin.  married     basic 6y       no      no   no  telephone   \n",
       "4   56   services  married  high school       no      no  yes  telephone   \n",
       "\n",
       "  month day_of_week  pdays  previous     poutcome  emp.var.rate  \\\n",
       "0   may         mon    999         0  nonexistent           1.1   \n",
       "1   may         mon    999         0  nonexistent           1.1   \n",
       "2   may         mon    999         0  nonexistent           1.1   \n",
       "3   may         mon    999         0  nonexistent           1.1   \n",
       "4   may         mon    999         0  nonexistent           1.1   \n",
       "\n",
       "   cons.price.idx  cons.conf.idx  euribor3m  nr.employed   y  \n",
       "0          93.994          -36.4      4.857       5191.0  no  \n",
       "1          93.994          -36.4      4.857       5191.0  no  \n",
       "2          93.994          -36.4      4.857       5191.0  no  \n",
       "3          93.994          -36.4      4.857       5191.0  no  \n",
       "4          93.994          -36.4      4.857       5191.0  no  "
      ]
     },
     "execution_count": 5,
     "metadata": {},
     "output_type": "execute_result"
    }
   ],
   "source": [
    "# showing dataframe\n",
    "\n",
    "df_1.head()"
   ]
  },
  {
   "cell_type": "code",
   "execution_count": 6,
   "metadata": {},
   "outputs": [],
   "source": [
    "# change target column values to numeric value\n",
    "\n",
    "df_1['y'][df_1['y'] == 'no'] = 0\n",
    "df_1['y'][df_1['y'] == 'yes'] = 1"
   ]
  },
  {
   "cell_type": "code",
   "execution_count": 7,
   "metadata": {},
   "outputs": [
    {
     "data": {
      "text/plain": [
       "0    36548\n",
       "1     4640\n",
       "Name: y, dtype: int64"
      ]
     },
     "execution_count": 7,
     "metadata": {},
     "output_type": "execute_result"
    }
   ],
   "source": [
    "# check the value in target columns\n",
    "\n",
    "df_1['y'].value_counts()"
   ]
  },
  {
   "cell_type": "code",
   "execution_count": 8,
   "metadata": {},
   "outputs": [],
   "source": [
    "# change the value's type into integer\n",
    "\n",
    "df_1['y'] = df_1['y'].astype('int')"
   ]
  },
  {
   "cell_type": "markdown",
   "metadata": {},
   "source": [
    "## Data Imbalance Check"
   ]
  },
  {
   "cell_type": "code",
   "execution_count": 14,
   "metadata": {},
   "outputs": [
    {
     "data": {
      "text/plain": [
       "0    88.73\n",
       "1    11.27\n",
       "Name: y, dtype: float64"
      ]
     },
     "execution_count": 14,
     "metadata": {},
     "output_type": "execute_result"
    }
   ],
   "source": [
    "# check distribution of the target column values in percentage\n",
    "\n",
    "round(df_1['y'].value_counts()/len(df_1)*100, 2)"
   ]
  },
  {
   "cell_type": "markdown",
   "metadata": {},
   "source": [
    "## Features Engineering\n",
    "\n",
    "Do the __Scaling__ for numerical columns (Robust Scaling) in Pipeline"
   ]
  },
  {
   "cell_type": "markdown",
   "metadata": {},
   "source": [
    "1. __Label Encoding__ for education column"
   ]
  },
  {
   "cell_type": "code",
   "execution_count": 17,
   "metadata": {},
   "outputs": [],
   "source": [
    "# Label encoding using map\n",
    "\n",
    "df_1['education'] = df_1['education'].map({'basic 4y':1\n",
    "                              , 'basic 6y':2\n",
    "                              , 'basic 9y' :3\n",
    "                              , \"high school\":4\n",
    "                              , \"university degree\":5\n",
    "                              , 'professional course':6\n",
    "                              , 'illiterate':0\n",
    "                              , 'unknown':0\n",
    "                             })"
   ]
  },
  {
   "cell_type": "markdown",
   "metadata": {},
   "source": [
    "## Splitting Data"
   ]
  },
  {
   "cell_type": "code",
   "execution_count": 654,
   "metadata": {},
   "outputs": [],
   "source": [
    "# seperate the columns into X and Y\n",
    "\n",
    "X = df_1.drop(columns='y')\n",
    "y = df_1['y']"
   ]
  },
  {
   "cell_type": "code",
   "execution_count": 19,
   "metadata": {},
   "outputs": [],
   "source": [
    "# data splitting\n",
    "\n",
    "X_train, X_test, y_train, y_test = train_test_split(X, y, stratify=y, test_size=.20, random_state=42)"
   ]
  },
  {
   "cell_type": "markdown",
   "metadata": {},
   "source": [
    "## Over Sampling\n",
    "\n",
    "Do oversampling method (because the data is imbalance) __only__ for train data"
   ]
  },
  {
   "cell_type": "code",
   "execution_count": 20,
   "metadata": {},
   "outputs": [],
   "source": [
    "# make data frame from train data\n",
    "\n",
    "df_train = pd.concat([X_train,y_train], axis=1)"
   ]
  },
  {
   "cell_type": "code",
   "execution_count": 21,
   "metadata": {},
   "outputs": [
    {
     "data": {
      "text/html": [
       "<div>\n",
       "<style scoped>\n",
       "    .dataframe tbody tr th:only-of-type {\n",
       "        vertical-align: middle;\n",
       "    }\n",
       "\n",
       "    .dataframe tbody tr th {\n",
       "        vertical-align: top;\n",
       "    }\n",
       "\n",
       "    .dataframe thead th {\n",
       "        text-align: right;\n",
       "    }\n",
       "</style>\n",
       "<table border=\"1\" class=\"dataframe\">\n",
       "  <thead>\n",
       "    <tr style=\"text-align: right;\">\n",
       "      <th></th>\n",
       "      <th>age</th>\n",
       "      <th>job</th>\n",
       "      <th>marital</th>\n",
       "      <th>education</th>\n",
       "      <th>default</th>\n",
       "      <th>housing</th>\n",
       "      <th>loan</th>\n",
       "      <th>contact</th>\n",
       "      <th>month</th>\n",
       "      <th>day_of_week</th>\n",
       "      <th>pdays</th>\n",
       "      <th>previous</th>\n",
       "      <th>poutcome</th>\n",
       "      <th>emp.var.rate</th>\n",
       "      <th>cons.price.idx</th>\n",
       "      <th>cons.conf.idx</th>\n",
       "      <th>euribor3m</th>\n",
       "      <th>nr.employed</th>\n",
       "      <th>y</th>\n",
       "    </tr>\n",
       "  </thead>\n",
       "  <tbody>\n",
       "    <tr>\n",
       "      <th>25611</th>\n",
       "      <td>49</td>\n",
       "      <td>blue-collar</td>\n",
       "      <td>married</td>\n",
       "      <td>3</td>\n",
       "      <td>unknown</td>\n",
       "      <td>no</td>\n",
       "      <td>no</td>\n",
       "      <td>cellular</td>\n",
       "      <td>nov</td>\n",
       "      <td>wed</td>\n",
       "      <td>999</td>\n",
       "      <td>0</td>\n",
       "      <td>nonexistent</td>\n",
       "      <td>-0.1</td>\n",
       "      <td>93.200</td>\n",
       "      <td>-42.0</td>\n",
       "      <td>4.120</td>\n",
       "      <td>5195.8</td>\n",
       "      <td>0</td>\n",
       "    </tr>\n",
       "    <tr>\n",
       "      <th>26010</th>\n",
       "      <td>37</td>\n",
       "      <td>entrepreneur</td>\n",
       "      <td>married</td>\n",
       "      <td>5</td>\n",
       "      <td>no</td>\n",
       "      <td>no</td>\n",
       "      <td>no</td>\n",
       "      <td>telephone</td>\n",
       "      <td>nov</td>\n",
       "      <td>wed</td>\n",
       "      <td>999</td>\n",
       "      <td>1</td>\n",
       "      <td>failure</td>\n",
       "      <td>-0.1</td>\n",
       "      <td>93.200</td>\n",
       "      <td>-42.0</td>\n",
       "      <td>4.120</td>\n",
       "      <td>5195.8</td>\n",
       "      <td>0</td>\n",
       "    </tr>\n",
       "    <tr>\n",
       "      <th>40194</th>\n",
       "      <td>78</td>\n",
       "      <td>retired</td>\n",
       "      <td>married</td>\n",
       "      <td>1</td>\n",
       "      <td>no</td>\n",
       "      <td>no</td>\n",
       "      <td>no</td>\n",
       "      <td>cellular</td>\n",
       "      <td>jul</td>\n",
       "      <td>mon</td>\n",
       "      <td>999</td>\n",
       "      <td>0</td>\n",
       "      <td>nonexistent</td>\n",
       "      <td>-1.7</td>\n",
       "      <td>94.215</td>\n",
       "      <td>-40.3</td>\n",
       "      <td>0.870</td>\n",
       "      <td>4991.6</td>\n",
       "      <td>1</td>\n",
       "    </tr>\n",
       "    <tr>\n",
       "      <th>297</th>\n",
       "      <td>36</td>\n",
       "      <td>admin.</td>\n",
       "      <td>married</td>\n",
       "      <td>5</td>\n",
       "      <td>no</td>\n",
       "      <td>yes</td>\n",
       "      <td>no</td>\n",
       "      <td>telephone</td>\n",
       "      <td>may</td>\n",
       "      <td>mon</td>\n",
       "      <td>999</td>\n",
       "      <td>0</td>\n",
       "      <td>nonexistent</td>\n",
       "      <td>1.1</td>\n",
       "      <td>93.994</td>\n",
       "      <td>-36.4</td>\n",
       "      <td>4.857</td>\n",
       "      <td>5191.0</td>\n",
       "      <td>0</td>\n",
       "    </tr>\n",
       "    <tr>\n",
       "      <th>36344</th>\n",
       "      <td>59</td>\n",
       "      <td>retired</td>\n",
       "      <td>divorced</td>\n",
       "      <td>5</td>\n",
       "      <td>no</td>\n",
       "      <td>no</td>\n",
       "      <td>no</td>\n",
       "      <td>cellular</td>\n",
       "      <td>jun</td>\n",
       "      <td>tue</td>\n",
       "      <td>999</td>\n",
       "      <td>0</td>\n",
       "      <td>nonexistent</td>\n",
       "      <td>-2.9</td>\n",
       "      <td>92.963</td>\n",
       "      <td>-40.8</td>\n",
       "      <td>1.262</td>\n",
       "      <td>5076.2</td>\n",
       "      <td>0</td>\n",
       "    </tr>\n",
       "  </tbody>\n",
       "</table>\n",
       "</div>"
      ],
      "text/plain": [
       "       age           job   marital  education  default housing loan  \\\n",
       "25611   49   blue-collar   married          3  unknown      no   no   \n",
       "26010   37  entrepreneur   married          5       no      no   no   \n",
       "40194   78       retired   married          1       no      no   no   \n",
       "297     36        admin.   married          5       no     yes   no   \n",
       "36344   59       retired  divorced          5       no      no   no   \n",
       "\n",
       "         contact month day_of_week  pdays  previous     poutcome  \\\n",
       "25611   cellular   nov         wed    999         0  nonexistent   \n",
       "26010  telephone   nov         wed    999         1      failure   \n",
       "40194   cellular   jul         mon    999         0  nonexistent   \n",
       "297    telephone   may         mon    999         0  nonexistent   \n",
       "36344   cellular   jun         tue    999         0  nonexistent   \n",
       "\n",
       "       emp.var.rate  cons.price.idx  cons.conf.idx  euribor3m  nr.employed  y  \n",
       "25611          -0.1          93.200          -42.0      4.120       5195.8  0  \n",
       "26010          -0.1          93.200          -42.0      4.120       5195.8  0  \n",
       "40194          -1.7          94.215          -40.3      0.870       4991.6  1  \n",
       "297             1.1          93.994          -36.4      4.857       5191.0  0  \n",
       "36344          -2.9          92.963          -40.8      1.262       5076.2  0  "
      ]
     },
     "execution_count": 21,
     "metadata": {},
     "output_type": "execute_result"
    }
   ],
   "source": [
    "# show df_train\n",
    "\n",
    "df_train.head()"
   ]
  },
  {
   "cell_type": "code",
   "execution_count": 22,
   "metadata": {},
   "outputs": [
    {
     "data": {
      "text/plain": [
       "0    29238\n",
       "1     3712\n",
       "Name: y, dtype: int64"
      ]
     },
     "execution_count": 22,
     "metadata": {},
     "output_type": "execute_result"
    }
   ],
   "source": [
    "# check data imbalance in df_train\n",
    "\n",
    "df_train['y'].value_counts()"
   ]
  },
  {
   "cell_type": "code",
   "execution_count": 23,
   "metadata": {},
   "outputs": [],
   "source": [
    "non_default = df_train[df_train['y'] == 0] # majority class"
   ]
  },
  {
   "cell_type": "code",
   "execution_count": 24,
   "metadata": {},
   "outputs": [],
   "source": [
    "default = df_train[df_train['y'] == 1] # minority class"
   ]
  },
  {
   "cell_type": "code",
   "execution_count": 25,
   "metadata": {},
   "outputs": [],
   "source": [
    "# Oversampling/Upsampling with resample method\n",
    "\n",
    "default_oversample = resample(default, \n",
    "                           replace = True, \n",
    "                           n_samples = len(non_default),\n",
    "                           random_state=42)"
   ]
  },
  {
   "cell_type": "code",
   "execution_count": 26,
   "metadata": {},
   "outputs": [],
   "source": [
    "# make data frame for oversampling data\n",
    "\n",
    "df_OverSample= pd.concat([non_default, default_oversample])"
   ]
  },
  {
   "cell_type": "code",
   "execution_count": 27,
   "metadata": {},
   "outputs": [
    {
     "data": {
      "text/plain": [
       "1    29238\n",
       "0    29238\n",
       "Name: y, dtype: int64"
      ]
     },
     "execution_count": 27,
     "metadata": {},
     "output_type": "execute_result"
    }
   ],
   "source": [
    "# checking data imbalance in df_oversample\n",
    "\n",
    "df_OverSample['y'].value_counts()"
   ]
  },
  {
   "cell_type": "code",
   "execution_count": 28,
   "metadata": {},
   "outputs": [],
   "source": [
    "# Separate data X and Y for Oversample Data fram\n",
    "\n",
    "X_train_OS = df_OverSample.drop(columns='y')\n",
    "y_train_OS = df_OverSample['y']"
   ]
  },
  {
   "cell_type": "markdown",
   "metadata": {},
   "source": [
    "# MODELLING"
   ]
  },
  {
   "cell_type": "markdown",
   "metadata": {},
   "source": [
    "## Pipeline\n",
    "\n",
    "we used pipeline method for modelling"
   ]
  },
  {
   "cell_type": "code",
   "execution_count": 29,
   "metadata": {},
   "outputs": [],
   "source": [
    "# define the numeric columns and categoric columns from the dataset\n",
    "\n",
    "num_columns = ['age', 'education', 'pdays', 'previous', 'cons.price.idx', 'cons.conf.idx', 'euribor3m'\n",
    "               , 'nr.employed', 'emp.var.rate'\n",
    "              ]\n",
    "\n",
    "cat_columns = [i for i in df_1.columns if (i not in num_columns) & (i!='y')]"
   ]
  },
  {
   "cell_type": "code",
   "execution_count": 30,
   "metadata": {},
   "outputs": [],
   "source": [
    "# create pipeline and model\n",
    "\n",
    "numeric_pipeline = Pipeline([\n",
    "    ('scaler', RobustScaler()),\n",
    "#     ('poly', PolynomialFeatures(degree=2, include_bias=False)),\n",
    "#     ('power', PowerTransformer(method='yeo-johnson'))\n",
    "])\n",
    "\n",
    "categoric_pipeline = Pipeline([\n",
    "    ('encoder', OneHotEncoder())\n",
    "])\n",
    "\n",
    "preprocessor = ColumnTransformer([\n",
    "    ('numeric', numeric_pipeline, num_columns),\n",
    "    ('categorical', categoric_pipeline, cat_columns)\n",
    "])\n",
    "\n",
    "pipe_LR = Pipeline([\n",
    "    ('prep', preprocessor),\n",
    "    ('algo', LogisticRegression())\n",
    "])\n",
    "\n",
    "pipe_KNN = Pipeline([\n",
    "    ('prep', preprocessor),\n",
    "    ('algo', KNeighborsClassifier())\n",
    "])\n",
    "\n",
    "pipe_SVM = Pipeline([\n",
    "    ('prep', preprocessor),\n",
    "    ('algo', SVC(max_iter=600))\n",
    "])\n",
    "\n",
    "pipe_DT = Pipeline([\n",
    "    ('prep', preprocessor),\n",
    "    ('algo', DecisionTreeClassifier(random_state=42))\n",
    "])\n",
    "\n",
    "pipe_RF = Pipeline([\n",
    "    ('prep', preprocessor),\n",
    "    ('algo', RandomForestClassifier(random_state=42))\n",
    "])\n",
    "\n",
    "pipe_XGB = Pipeline([\n",
    "    ('prep', preprocessor),\n",
    "    ('algo', XGBClassifier())\n",
    "])"
   ]
  },
  {
   "cell_type": "markdown",
   "metadata": {},
   "source": [
    "## Def Function for Evaluation Metrix\n",
    "\n",
    "create a `def` function for evaluation metrix after modelling"
   ]
  },
  {
   "cell_type": "code",
   "execution_count": 31,
   "metadata": {},
   "outputs": [],
   "source": [
    "# def function for each model evaluation matrix\n",
    "\n",
    "def conf_mat (Model, X_train, X_test, y_train, y_test,Nama):\n",
    "    y_pred_test = Model.predict(X_test)\n",
    "    cm_test = confusion_matrix(y_test, y_pred_test, labels=[1,0])\n",
    "    df_test = pd.DataFrame(cm_test, index = ['Akt1', 'Akt0'], columns=['Pred1', 'Pred0'])\n",
    "    print( 'Classification report data TEST ' + Nama + '\\n\\n', classification_report(y_test, y_pred_test))\n",
    "    print('\\nROC AUC test :', round(roc_auc_score(y_test, y_pred_test), 2), '\\n')\n",
    "    print('\\nConfusion matrix data test ' + Nama + '\\n\\n')\n",
    "    print(df_test)\n",
    "    print('='*100)\n",
    "    y_pred_train = Model.predict(X_train)\n",
    "    cm_train = confusion_matrix(y_train, y_pred_train, labels=[1,0])\n",
    "    df_train = pd.DataFrame(cm_train, index = ['Akt1', 'Akt0'], columns=['Pred1', 'Pred0'])\n",
    "    print( 'Classification report data TRAIN ' + Nama + '\\n\\n', classification_report(y_train, y_pred_train))\n",
    "    print('\\nROC AUC train :', round(roc_auc_score(y_train, y_pred_train), 2), '\\n')\n",
    "    print('\\nConfusion matrix data train ' + Nama + '\\n\\n')\n",
    "    print(df_train)"
   ]
  },
  {
   "cell_type": "code",
   "execution_count": 32,
   "metadata": {},
   "outputs": [],
   "source": [
    "# def function to compare the evaluation matrix for some models\n",
    "\n",
    "def prec_rec (Model, X_test, y_test, Nama):\n",
    "    data = {}\n",
    "    prec = []\n",
    "    rec = []\n",
    "    for i in Model :\n",
    "        y_pred_ts = i.predict(X_test)\n",
    "        precision = precision_score(y_test, y_pred_ts)\n",
    "        recall = recall_score(y_test, y_pred_ts)\n",
    "        prec.append(precision)\n",
    "        rec.append(recall)\n",
    "    for j in range (len(Nama)):\n",
    "        data[Nama[j]] = [prec[j], rec[j]]\n",
    "    \n",
    "    df = pd.DataFrame(data, index=['Precison', 'Recall'])\n",
    "    return df"
   ]
  },
  {
   "cell_type": "markdown",
   "metadata": {},
   "source": [
    "## Model fitting"
   ]
  },
  {
   "cell_type": "markdown",
   "metadata": {},
   "source": [
    "__Logistic Regression__"
   ]
  },
  {
   "cell_type": "code",
   "execution_count": 33,
   "metadata": {},
   "outputs": [
    {
     "data": {
      "text/plain": [
       "Pipeline(steps=[('prep',\n",
       "                 ColumnTransformer(transformers=[('numeric',\n",
       "                                                  Pipeline(steps=[('scaler',\n",
       "                                                                   RobustScaler())]),\n",
       "                                                  ['age', 'education', 'pdays',\n",
       "                                                   'previous', 'cons.price.idx',\n",
       "                                                   'cons.conf.idx', 'euribor3m',\n",
       "                                                   'nr.employed',\n",
       "                                                   'emp.var.rate']),\n",
       "                                                 ('categorical',\n",
       "                                                  Pipeline(steps=[('encoder',\n",
       "                                                                   OneHotEncoder())]),\n",
       "                                                  ['job', 'marital', 'default',\n",
       "                                                   'housing', 'loan', 'contact',\n",
       "                                                   'month', 'day_of_week',\n",
       "                                                   'poutcome'])])),\n",
       "                ('algo', LogisticRegression())])"
      ]
     },
     "execution_count": 33,
     "metadata": {},
     "output_type": "execute_result"
    }
   ],
   "source": [
    "# Logistic regression base model fitting\n",
    "\n",
    "pipe_LR.fit(X_train_OS, y_train_OS)"
   ]
  },
  {
   "cell_type": "code",
   "execution_count": 34,
   "metadata": {},
   "outputs": [
    {
     "name": "stdout",
     "output_type": "stream",
     "text": [
      "Classification report data TEST LR Base\n",
      "\n",
      "               precision    recall  f1-score   support\n",
      "\n",
      "           0       0.95      0.85      0.90      7310\n",
      "           1       0.36      0.65      0.46       928\n",
      "\n",
      "    accuracy                           0.83      8238\n",
      "   macro avg       0.65      0.75      0.68      8238\n",
      "weighted avg       0.88      0.83      0.85      8238\n",
      "\n",
      "\n",
      "ROC AUC test : 0.75 \n",
      "\n",
      "\n",
      "Confusion matrix data test LR Base\n",
      "\n",
      "\n",
      "      Pred1  Pred0\n",
      "Akt1    599    329\n",
      "Akt0   1082   6228\n",
      "====================================================================================================\n",
      "Classification report data TRAIN LR Base\n",
      "\n",
      "               precision    recall  f1-score   support\n",
      "\n",
      "           0       0.69      0.85      0.76     29238\n",
      "           1       0.80      0.62      0.70     29238\n",
      "\n",
      "    accuracy                           0.73     58476\n",
      "   macro avg       0.75      0.73      0.73     58476\n",
      "weighted avg       0.75      0.73      0.73     58476\n",
      "\n",
      "\n",
      "ROC AUC train : 0.73 \n",
      "\n",
      "\n",
      "Confusion matrix data train LR Base\n",
      "\n",
      "\n",
      "      Pred1  Pred0\n",
      "Akt1  18136  11102\n",
      "Akt0   4411  24827\n"
     ]
    }
   ],
   "source": [
    "# evaluation matrix of Logistic regression base model\n",
    "\n",
    "conf_mat(pipe_LR, X_train_OS, X_test, y_train_OS, y_test, 'LR Base')"
   ]
  },
  {
   "cell_type": "markdown",
   "metadata": {},
   "source": [
    "__K-Nearest Neighbor__"
   ]
  },
  {
   "cell_type": "code",
   "execution_count": 35,
   "metadata": {},
   "outputs": [
    {
     "data": {
      "text/plain": [
       "Pipeline(steps=[('prep',\n",
       "                 ColumnTransformer(transformers=[('numeric',\n",
       "                                                  Pipeline(steps=[('scaler',\n",
       "                                                                   RobustScaler())]),\n",
       "                                                  ['age', 'education', 'pdays',\n",
       "                                                   'previous', 'cons.price.idx',\n",
       "                                                   'cons.conf.idx', 'euribor3m',\n",
       "                                                   'nr.employed',\n",
       "                                                   'emp.var.rate']),\n",
       "                                                 ('categorical',\n",
       "                                                  Pipeline(steps=[('encoder',\n",
       "                                                                   OneHotEncoder())]),\n",
       "                                                  ['job', 'marital', 'default',\n",
       "                                                   'housing', 'loan', 'contact',\n",
       "                                                   'month', 'day_of_week',\n",
       "                                                   'poutcome'])])),\n",
       "                ('algo', KNeighborsClassifier())])"
      ]
     },
     "execution_count": 35,
     "metadata": {},
     "output_type": "execute_result"
    }
   ],
   "source": [
    "# K-Nearest Neighbor base model fitting\n",
    "\n",
    "pipe_KNN.fit(X_train_OS, y_train_OS)"
   ]
  },
  {
   "cell_type": "code",
   "execution_count": 36,
   "metadata": {},
   "outputs": [
    {
     "name": "stdout",
     "output_type": "stream",
     "text": [
      "Classification report data TEST KNN Base\n",
      "\n",
      "               precision    recall  f1-score   support\n",
      "\n",
      "           0       0.94      0.81      0.87      7310\n",
      "           1       0.27      0.57      0.37       928\n",
      "\n",
      "    accuracy                           0.78      8238\n",
      "   macro avg       0.60      0.69      0.62      8238\n",
      "weighted avg       0.86      0.78      0.81      8238\n",
      "\n",
      "\n",
      "ROC AUC test : 0.69 \n",
      "\n",
      "\n",
      "Confusion matrix data test KNN Base\n",
      "\n",
      "\n",
      "      Pred1  Pred0\n",
      "Akt1    531    397\n",
      "Akt0   1424   5886\n",
      "====================================================================================================\n",
      "Classification report data TRAIN KNN Base\n",
      "\n",
      "               precision    recall  f1-score   support\n",
      "\n",
      "           0       1.00      0.86      0.92     29238\n",
      "           1       0.87      1.00      0.93     29238\n",
      "\n",
      "    accuracy                           0.93     58476\n",
      "   macro avg       0.93      0.93      0.93     58476\n",
      "weighted avg       0.93      0.93      0.93     58476\n",
      "\n",
      "\n",
      "ROC AUC train : 0.93 \n",
      "\n",
      "\n",
      "Confusion matrix data train KNN Base\n",
      "\n",
      "\n",
      "      Pred1  Pred0\n",
      "Akt1  29115    123\n",
      "Akt0   4194  25044\n"
     ]
    }
   ],
   "source": [
    "# evaluation metrix of K-Nearest Neighbor base model\n",
    "\n",
    "conf_mat(pipe_KNN, X_train_OS, X_test, y_train_OS, y_test, 'KNN Base')"
   ]
  },
  {
   "cell_type": "markdown",
   "metadata": {},
   "source": [
    "__Support Vector Machine__"
   ]
  },
  {
   "cell_type": "code",
   "execution_count": 37,
   "metadata": {},
   "outputs": [
    {
     "data": {
      "text/plain": [
       "Pipeline(steps=[('prep',\n",
       "                 ColumnTransformer(transformers=[('numeric',\n",
       "                                                  Pipeline(steps=[('scaler',\n",
       "                                                                   RobustScaler())]),\n",
       "                                                  ['age', 'education', 'pdays',\n",
       "                                                   'previous', 'cons.price.idx',\n",
       "                                                   'cons.conf.idx', 'euribor3m',\n",
       "                                                   'nr.employed',\n",
       "                                                   'emp.var.rate']),\n",
       "                                                 ('categorical',\n",
       "                                                  Pipeline(steps=[('encoder',\n",
       "                                                                   OneHotEncoder())]),\n",
       "                                                  ['job', 'marital', 'default',\n",
       "                                                   'housing', 'loan', 'contact',\n",
       "                                                   'month', 'day_of_week',\n",
       "                                                   'poutcome'])])),\n",
       "                ('algo', SVC(max_iter=600))])"
      ]
     },
     "execution_count": 37,
     "metadata": {},
     "output_type": "execute_result"
    }
   ],
   "source": [
    "# Support Vector Machine base model fitting\n",
    "\n",
    "pipe_SVM.fit(X_train_OS, y_train_OS)"
   ]
  },
  {
   "cell_type": "code",
   "execution_count": 38,
   "metadata": {},
   "outputs": [
    {
     "name": "stdout",
     "output_type": "stream",
     "text": [
      "Classification report data TEST SVM Base\n",
      "\n",
      "               precision    recall  f1-score   support\n",
      "\n",
      "           0       0.35      0.01      0.03      7310\n",
      "           1       0.09      0.80      0.17       928\n",
      "\n",
      "    accuracy                           0.10      8238\n",
      "   macro avg       0.22      0.41      0.10      8238\n",
      "weighted avg       0.32      0.10      0.04      8238\n",
      "\n",
      "\n",
      "ROC AUC test : 0.41 \n",
      "\n",
      "\n",
      "Confusion matrix data test SVM Base\n",
      "\n",
      "\n",
      "      Pred1  Pred0\n",
      "Akt1    741    187\n",
      "Akt0   7208    102\n",
      "====================================================================================================\n",
      "Classification report data TRAIN SVM Base\n",
      "\n",
      "               precision    recall  f1-score   support\n",
      "\n",
      "           0       0.07      0.02      0.02     29238\n",
      "           1       0.45      0.79      0.57     29238\n",
      "\n",
      "    accuracy                           0.40     58476\n",
      "   macro avg       0.26      0.40      0.30     58476\n",
      "weighted avg       0.26      0.40      0.30     58476\n",
      "\n",
      "\n",
      "ROC AUC train : 0.4 \n",
      "\n",
      "\n",
      "Confusion matrix data train SVM Base\n",
      "\n",
      "\n",
      "      Pred1  Pred0\n",
      "Akt1  23095   6143\n",
      "Akt0  28792    446\n"
     ]
    }
   ],
   "source": [
    "# Evaluation Matrix of Support Vector Machine base model\n",
    "\n",
    "conf_mat(pipe_SVM, X_train_OS, X_test, y_train_OS, y_test, 'SVM Base')"
   ]
  },
  {
   "cell_type": "markdown",
   "metadata": {},
   "source": [
    "__Decision Tree__"
   ]
  },
  {
   "cell_type": "code",
   "execution_count": 39,
   "metadata": {},
   "outputs": [
    {
     "data": {
      "text/plain": [
       "Pipeline(steps=[('prep',\n",
       "                 ColumnTransformer(transformers=[('numeric',\n",
       "                                                  Pipeline(steps=[('scaler',\n",
       "                                                                   RobustScaler())]),\n",
       "                                                  ['age', 'education', 'pdays',\n",
       "                                                   'previous', 'cons.price.idx',\n",
       "                                                   'cons.conf.idx', 'euribor3m',\n",
       "                                                   'nr.employed',\n",
       "                                                   'emp.var.rate']),\n",
       "                                                 ('categorical',\n",
       "                                                  Pipeline(steps=[('encoder',\n",
       "                                                                   OneHotEncoder())]),\n",
       "                                                  ['job', 'marital', 'default',\n",
       "                                                   'housing', 'loan', 'contact',\n",
       "                                                   'month', 'day_of_week',\n",
       "                                                   'poutcome'])])),\n",
       "                ('algo', DecisionTreeClassifier(random_state=42))])"
      ]
     },
     "execution_count": 39,
     "metadata": {},
     "output_type": "execute_result"
    }
   ],
   "source": [
    "# Decision Tree base model fitting\n",
    "\n",
    "pipe_DT.fit(X_train_OS, y_train_OS)"
   ]
  },
  {
   "cell_type": "code",
   "execution_count": 40,
   "metadata": {},
   "outputs": [
    {
     "name": "stdout",
     "output_type": "stream",
     "text": [
      "Classification report data TEST DT Over Sampling\n",
      "\n",
      "               precision    recall  f1-score   support\n",
      "\n",
      "           0       0.92      0.90      0.91      7310\n",
      "           1       0.31      0.36      0.33       928\n",
      "\n",
      "    accuracy                           0.84      8238\n",
      "   macro avg       0.61      0.63      0.62      8238\n",
      "weighted avg       0.85      0.84      0.84      8238\n",
      "\n",
      "\n",
      "ROC AUC test : 0.63 \n",
      "\n",
      "\n",
      "Confusion matrix data test DT Over Sampling\n",
      "\n",
      "\n",
      "      Pred1  Pred0\n",
      "Akt1    331    597\n",
      "Akt0    750   6560\n",
      "====================================================================================================\n",
      "Classification report data TRAIN DT Over Sampling\n",
      "\n",
      "               precision    recall  f1-score   support\n",
      "\n",
      "           0       1.00      0.99      0.99     29238\n",
      "           1       0.99      1.00      0.99     29238\n",
      "\n",
      "    accuracy                           0.99     58476\n",
      "   macro avg       0.99      0.99      0.99     58476\n",
      "weighted avg       0.99      0.99      0.99     58476\n",
      "\n",
      "\n",
      "ROC AUC train : 0.99 \n",
      "\n",
      "\n",
      "Confusion matrix data train DT Over Sampling\n",
      "\n",
      "\n",
      "      Pred1  Pred0\n",
      "Akt1  29224     14\n",
      "Akt0    438  28800\n"
     ]
    }
   ],
   "source": [
    "# Evaluation Matrix of Decision Tree base model\n",
    "\n",
    "conf_mat(pipe_DT, X_train_OS, X_test, y_train_OS, y_test, 'DT Over Sampling')"
   ]
  },
  {
   "cell_type": "markdown",
   "metadata": {},
   "source": [
    "__Random Forest__"
   ]
  },
  {
   "cell_type": "code",
   "execution_count": 41,
   "metadata": {},
   "outputs": [
    {
     "data": {
      "text/plain": [
       "Pipeline(steps=[('prep',\n",
       "                 ColumnTransformer(transformers=[('numeric',\n",
       "                                                  Pipeline(steps=[('scaler',\n",
       "                                                                   RobustScaler())]),\n",
       "                                                  ['age', 'education', 'pdays',\n",
       "                                                   'previous', 'cons.price.idx',\n",
       "                                                   'cons.conf.idx', 'euribor3m',\n",
       "                                                   'nr.employed',\n",
       "                                                   'emp.var.rate']),\n",
       "                                                 ('categorical',\n",
       "                                                  Pipeline(steps=[('encoder',\n",
       "                                                                   OneHotEncoder())]),\n",
       "                                                  ['job', 'marital', 'default',\n",
       "                                                   'housing', 'loan', 'contact',\n",
       "                                                   'month', 'day_of_week',\n",
       "                                                   'poutcome'])])),\n",
       "                ('algo', RandomForestClassifier(random_state=42))])"
      ]
     },
     "execution_count": 41,
     "metadata": {},
     "output_type": "execute_result"
    }
   ],
   "source": [
    "# Random Forest base model fitting\n",
    "\n",
    "pipe_RF.fit(X_train_OS, y_train_OS)"
   ]
  },
  {
   "cell_type": "code",
   "execution_count": 42,
   "metadata": {},
   "outputs": [
    {
     "name": "stdout",
     "output_type": "stream",
     "text": [
      "Classification report data TEST RF Base\n",
      "\n",
      "               precision    recall  f1-score   support\n",
      "\n",
      "           0       0.93      0.94      0.93      7310\n",
      "           1       0.45      0.41      0.43       928\n",
      "\n",
      "    accuracy                           0.88      8238\n",
      "   macro avg       0.69      0.67      0.68      8238\n",
      "weighted avg       0.87      0.88      0.87      8238\n",
      "\n",
      "\n",
      "ROC AUC test : 0.67 \n",
      "\n",
      "\n",
      "Confusion matrix data test RF Base\n",
      "\n",
      "\n",
      "      Pred1  Pred0\n",
      "Akt1    382    546\n",
      "Akt0    473   6837\n",
      "====================================================================================================\n",
      "Classification report data TRAIN RF Base\n",
      "\n",
      "               precision    recall  f1-score   support\n",
      "\n",
      "           0       1.00      0.98      0.99     29238\n",
      "           1       0.99      1.00      0.99     29238\n",
      "\n",
      "    accuracy                           0.99     58476\n",
      "   macro avg       0.99      0.99      0.99     58476\n",
      "weighted avg       0.99      0.99      0.99     58476\n",
      "\n",
      "\n",
      "ROC AUC train : 0.99 \n",
      "\n",
      "\n",
      "Confusion matrix data train RF Base\n",
      "\n",
      "\n",
      "      Pred1  Pred0\n",
      "Akt1  29228     10\n",
      "Akt0    442  28796\n"
     ]
    }
   ],
   "source": [
    "# Evaluation Matrix of Random Forest base model\n",
    "\n",
    "conf_mat(pipe_RF, X_train_OS, X_test, y_train_OS, y_test, 'RF Base')"
   ]
  },
  {
   "cell_type": "markdown",
   "metadata": {},
   "source": [
    "__XGBoost__"
   ]
  },
  {
   "cell_type": "code",
   "execution_count": 43,
   "metadata": {},
   "outputs": [
    {
     "name": "stdout",
     "output_type": "stream",
     "text": [
      "[04:54:36] WARNING: C:/Users/Administrator/workspace/xgboost-win64_release_1.4.0/src/learner.cc:1095: Starting in XGBoost 1.3.0, the default evaluation metric used with the objective 'binary:logistic' was changed from 'error' to 'logloss'. Explicitly set eval_metric if you'd like to restore the old behavior.\n"
     ]
    },
    {
     "data": {
      "text/plain": [
       "Pipeline(steps=[('prep',\n",
       "                 ColumnTransformer(transformers=[('numeric',\n",
       "                                                  Pipeline(steps=[('scaler',\n",
       "                                                                   RobustScaler())]),\n",
       "                                                  ['age', 'education', 'pdays',\n",
       "                                                   'previous', 'cons.price.idx',\n",
       "                                                   'cons.conf.idx', 'euribor3m',\n",
       "                                                   'nr.employed',\n",
       "                                                   'emp.var.rate']),\n",
       "                                                 ('categorical',\n",
       "                                                  Pipeline(steps=[('encoder',\n",
       "                                                                   OneHotEncoder())]),\n",
       "                                                  ['job', 'marital', 'default',\n",
       "                                                   'housing', 'loan', 'contact',\n",
       "                                                   'month', 'd...\n",
       "                               colsample_bytree=1, gamma=0, gpu_id=-1,\n",
       "                               importance_type='gain',\n",
       "                               interaction_constraints='',\n",
       "                               learning_rate=0.300000012, max_delta_step=0,\n",
       "                               max_depth=6, min_child_weight=1, missing=nan,\n",
       "                               monotone_constraints='()', n_estimators=100,\n",
       "                               n_jobs=8, num_parallel_tree=1, random_state=0,\n",
       "                               reg_alpha=0, reg_lambda=1, scale_pos_weight=1,\n",
       "                               subsample=1, tree_method='exact',\n",
       "                               validate_parameters=1, verbosity=None))])"
      ]
     },
     "execution_count": 43,
     "metadata": {},
     "output_type": "execute_result"
    }
   ],
   "source": [
    "# XGBoost base model fitting\n",
    "\n",
    "pipe_XGB.fit(X_train_OS, y_train_OS)"
   ]
  },
  {
   "cell_type": "code",
   "execution_count": 44,
   "metadata": {},
   "outputs": [
    {
     "name": "stdout",
     "output_type": "stream",
     "text": [
      "Classification report data TEST XGB Base\n",
      "\n",
      "               precision    recall  f1-score   support\n",
      "\n",
      "           0       0.94      0.88      0.91      7310\n",
      "           1       0.39      0.59      0.47       928\n",
      "\n",
      "    accuracy                           0.85      8238\n",
      "   macro avg       0.67      0.74      0.69      8238\n",
      "weighted avg       0.88      0.85      0.86      8238\n",
      "\n",
      "\n",
      "ROC AUC test : 0.74 \n",
      "\n",
      "\n",
      "Confusion matrix data test XGB Base\n",
      "\n",
      "\n",
      "      Pred1  Pred0\n",
      "Akt1    552    376\n",
      "Akt0    870   6440\n",
      "====================================================================================================\n",
      "Classification report data TRAIN XGB Base\n",
      "\n",
      "               precision    recall  f1-score   support\n",
      "\n",
      "           0       0.81      0.90      0.85     29238\n",
      "           1       0.89      0.79      0.84     29238\n",
      "\n",
      "    accuracy                           0.85     58476\n",
      "   macro avg       0.85      0.85      0.85     58476\n",
      "weighted avg       0.85      0.85      0.85     58476\n",
      "\n",
      "\n",
      "ROC AUC train : 0.85 \n",
      "\n",
      "\n",
      "Confusion matrix data train XGB Base\n",
      "\n",
      "\n",
      "      Pred1  Pred0\n",
      "Akt1  23185   6053\n",
      "Akt0   2904  26334\n"
     ]
    }
   ],
   "source": [
    "# Evaluation Matrix of XGBoost base model\n",
    "\n",
    "conf_mat(pipe_XGB, X_train_OS, X_test, y_train_OS, y_test, 'XGB Base')"
   ]
  },
  {
   "cell_type": "markdown",
   "metadata": {},
   "source": [
    "### Comparing Base Models's Evaluation Matrix"
   ]
  },
  {
   "cell_type": "code",
   "execution_count": 45,
   "metadata": {},
   "outputs": [
    {
     "data": {
      "text/html": [
       "<div>\n",
       "<style scoped>\n",
       "    .dataframe tbody tr th:only-of-type {\n",
       "        vertical-align: middle;\n",
       "    }\n",
       "\n",
       "    .dataframe tbody tr th {\n",
       "        vertical-align: top;\n",
       "    }\n",
       "\n",
       "    .dataframe thead th {\n",
       "        text-align: right;\n",
       "    }\n",
       "</style>\n",
       "<table border=\"1\" class=\"dataframe\">\n",
       "  <thead>\n",
       "    <tr style=\"text-align: right;\">\n",
       "      <th></th>\n",
       "      <th>LR_Base</th>\n",
       "      <th>KNN_Base</th>\n",
       "      <th>SVM_Base</th>\n",
       "      <th>DT_Base</th>\n",
       "      <th>RF_Base</th>\n",
       "      <th>XGB_Base</th>\n",
       "    </tr>\n",
       "  </thead>\n",
       "  <tbody>\n",
       "    <tr>\n",
       "      <th>Precison</th>\n",
       "      <td>0.356336</td>\n",
       "      <td>0.271611</td>\n",
       "      <td>0.093219</td>\n",
       "      <td>0.306198</td>\n",
       "      <td>0.446784</td>\n",
       "      <td>0.388186</td>\n",
       "    </tr>\n",
       "    <tr>\n",
       "      <th>Recall</th>\n",
       "      <td>0.645474</td>\n",
       "      <td>0.572198</td>\n",
       "      <td>0.798491</td>\n",
       "      <td>0.356681</td>\n",
       "      <td>0.411638</td>\n",
       "      <td>0.594828</td>\n",
       "    </tr>\n",
       "  </tbody>\n",
       "</table>\n",
       "</div>"
      ],
      "text/plain": [
       "           LR_Base  KNN_Base  SVM_Base   DT_Base   RF_Base  XGB_Base\n",
       "Precison  0.356336  0.271611  0.093219  0.306198  0.446784  0.388186\n",
       "Recall    0.645474  0.572198  0.798491  0.356681  0.411638  0.594828"
      ]
     },
     "execution_count": 45,
     "metadata": {},
     "output_type": "execute_result"
    }
   ],
   "source": [
    "# showing the precision and recall of all base model\n",
    "\n",
    "prec_rec ([pipe_LR, pipe_KNN, pipe_SVM, pipe_DT, pipe_RF, pipe_XGB], X_test, y_test, ['LR_Base', 'KNN_Base', 'SVM_Base', 'DT_Base', 'RF_Base', 'XGB_Base'])"
   ]
  },
  {
   "cell_type": "markdown",
   "metadata": {},
   "source": [
    "_____________"
   ]
  },
  {
   "cell_type": "markdown",
   "metadata": {},
   "source": [
    "# __HYPERPARAMETER TUNING__\n",
    "\n",
    "we choose 4 potential models for hyperparameter tuning:\n",
    "- Logistic Regression\n",
    "- Decision Tree\n",
    "- Random Forest\n",
    "- XGBoost"
   ]
  },
  {
   "cell_type": "code",
   "execution_count": 55,
   "metadata": {},
   "outputs": [],
   "source": [
    "# define the stratifiedKfold for cross validation in hyperparameter tuning\n",
    "\n",
    "skf = StratifiedKFold(n_splits=3)"
   ]
  },
  {
   "cell_type": "markdown",
   "metadata": {},
   "source": [
    "https://towardsdatascience.com/fine-tuning-a-classifier-in-scikit-learn-66e048c21e65"
   ]
  },
  {
   "cell_type": "markdown",
   "metadata": {},
   "source": [
    "_____________"
   ]
  },
  {
   "cell_type": "markdown",
   "metadata": {},
   "source": [
    "## HYPERPARAMETER TUNING LOGISTIC REGRESSION"
   ]
  },
  {
   "cell_type": "markdown",
   "metadata": {},
   "source": [
    "__Default Parameter__\n",
    "- 'algo__C': 1,\n",
    "- 'algo__class_weight': None,\n",
    "- 'algo__fit_intercept': True,\n",
    "- 'algo__penalty': 'l2'"
   ]
  },
  {
   "cell_type": "markdown",
   "metadata": {},
   "source": [
    "__1st TUNING__"
   ]
  },
  {
   "cell_type": "code",
   "execution_count": 56,
   "metadata": {},
   "outputs": [],
   "source": [
    "# define the Logistic regression parameter for the 1st hyperparameter tuning\n",
    "\n",
    "param_LR = {\n",
    "    'algo__C' : list(np.logspace(-4,1,10)) + [1.0],\n",
    "    'algo__class_weight' : [None, {0:.4, 1:.6}, {0:.3, 1:.7}, {0:.2, 1:.8}, {0:.1, 1:.9}],\n",
    "    'algo__fit_intercept' : [False, True],\n",
    "    'algo__penalty' : ['l1', 'l2', 'elasticnet', 'none']\n",
    "}"
   ]
  },
  {
   "cell_type": "code",
   "execution_count": 57,
   "metadata": {},
   "outputs": [],
   "source": [
    "# using gridsearchcv method for hyperparameter tuning with precision score as a benchmark\n",
    "\n",
    "LR_GS = GridSearchCV(pipe_LR, param_LR, cv=skf, n_jobs=-1, verbose=1, scoring='precision')"
   ]
  },
  {
   "cell_type": "code",
   "execution_count": 58,
   "metadata": {},
   "outputs": [
    {
     "name": "stdout",
     "output_type": "stream",
     "text": [
      "Fitting 3 folds for each of 440 candidates, totalling 1320 fits\n"
     ]
    },
    {
     "name": "stderr",
     "output_type": "stream",
     "text": [
      "[Parallel(n_jobs=-1)]: Using backend LokyBackend with 8 concurrent workers.\n",
      "[Parallel(n_jobs=-1)]: Done  34 tasks      | elapsed:   11.5s\n",
      "[Parallel(n_jobs=-1)]: Done 184 tasks      | elapsed:   37.4s\n",
      "[Parallel(n_jobs=-1)]: Done 434 tasks      | elapsed:  1.5min\n",
      "[Parallel(n_jobs=-1)]: Done 784 tasks      | elapsed:  2.6min\n",
      "[Parallel(n_jobs=-1)]: Done 1234 tasks      | elapsed:  4.1min\n",
      "[Parallel(n_jobs=-1)]: Done 1320 out of 1320 | elapsed:  4.4min finished\n"
     ]
    },
    {
     "data": {
      "text/plain": [
       "GridSearchCV(cv=StratifiedKFold(n_splits=3, random_state=None, shuffle=False),\n",
       "             estimator=Pipeline(steps=[('prep',\n",
       "                                        ColumnTransformer(transformers=[('numeric',\n",
       "                                                                         Pipeline(steps=[('scaler',\n",
       "                                                                                          RobustScaler())]),\n",
       "                                                                         ['age',\n",
       "                                                                          'education',\n",
       "                                                                          'pdays',\n",
       "                                                                          'previous',\n",
       "                                                                          'cons.price.idx',\n",
       "                                                                          'cons.conf.idx',\n",
       "                                                                          'euribor3m',\n",
       "                                                                          'nr.employed',\n",
       "                                                                          'emp.var.rate']),\n",
       "                                                                        ('categorical',\n",
       "                                                                         Pipeline(steps=[('encode...\n",
       "             param_grid={'algo__C': [0.0001, 0.00035938136638046257,\n",
       "                                     0.001291549665014884, 0.004641588833612782,\n",
       "                                     0.016681005372000592, 0.05994842503189409,\n",
       "                                     0.21544346900318845, 0.7742636826811278,\n",
       "                                     2.782559402207126, 10.0, 1.0],\n",
       "                         'algo__class_weight': [None, {0: 0.4, 1: 0.6},\n",
       "                                                {0: 0.3, 1: 0.7},\n",
       "                                                {0: 0.2, 1: 0.8},\n",
       "                                                {0: 0.1, 1: 0.9}],\n",
       "                         'algo__fit_intercept': [False, True],\n",
       "                         'algo__penalty': ['l1', 'l2', 'elasticnet', 'none']},\n",
       "             scoring='precision', verbose=1)"
      ]
     },
     "execution_count": 58,
     "metadata": {},
     "output_type": "execute_result"
    }
   ],
   "source": [
    "# run hyperparameter tuning\n",
    "\n",
    "LR_GS.fit(X_train_OS, y_train_OS)"
   ]
  },
  {
   "cell_type": "code",
   "execution_count": 59,
   "metadata": {},
   "outputs": [
    {
     "data": {
      "text/plain": [
       "{'algo__C': 0.0001,\n",
       " 'algo__class_weight': None,\n",
       " 'algo__fit_intercept': True,\n",
       " 'algo__penalty': 'none'}"
      ]
     },
     "execution_count": 59,
     "metadata": {},
     "output_type": "execute_result"
    }
   ],
   "source": [
    "# show the best combination of parameter that create the best precision score\n",
    "\n",
    "LR_GS.best_params_"
   ]
  },
  {
   "cell_type": "code",
   "execution_count": 60,
   "metadata": {},
   "outputs": [],
   "source": [
    "# Define Logistic regression model after tuning that have the best parameter\n",
    "\n",
    "LR_Tune = LR_GS.best_estimator_"
   ]
  },
  {
   "cell_type": "code",
   "execution_count": 61,
   "metadata": {},
   "outputs": [
    {
     "data": {
      "text/plain": [
       "Pipeline(steps=[('prep',\n",
       "                 ColumnTransformer(transformers=[('numeric',\n",
       "                                                  Pipeline(steps=[('scaler',\n",
       "                                                                   RobustScaler())]),\n",
       "                                                  ['age', 'education', 'pdays',\n",
       "                                                   'previous', 'cons.price.idx',\n",
       "                                                   'cons.conf.idx', 'euribor3m',\n",
       "                                                   'nr.employed',\n",
       "                                                   'emp.var.rate']),\n",
       "                                                 ('categorical',\n",
       "                                                  Pipeline(steps=[('encoder',\n",
       "                                                                   OneHotEncoder())]),\n",
       "                                                  ['job', 'marital', 'default',\n",
       "                                                   'housing', 'loan', 'contact',\n",
       "                                                   'month', 'day_of_week',\n",
       "                                                   'poutcome'])])),\n",
       "                ('algo', LogisticRegression(C=0.0001, penalty='none'))])"
      ]
     },
     "execution_count": 61,
     "metadata": {},
     "output_type": "execute_result"
    }
   ],
   "source": [
    "# run the model\n",
    "\n",
    "LR_Tune.fit(X_train_OS, y_train_OS)"
   ]
  },
  {
   "cell_type": "code",
   "execution_count": 62,
   "metadata": {},
   "outputs": [
    {
     "name": "stdout",
     "output_type": "stream",
     "text": [
      "Classification report data TEST LR Tuning 1 best estimator\n",
      "\n",
      "               precision    recall  f1-score   support\n",
      "\n",
      "           0       0.95      0.85      0.90      7310\n",
      "           1       0.35      0.64      0.46       928\n",
      "\n",
      "    accuracy                           0.83      8238\n",
      "   macro avg       0.65      0.75      0.68      8238\n",
      "weighted avg       0.88      0.83      0.85      8238\n",
      "\n",
      "\n",
      "ROC AUC test : 0.75 \n",
      "\n",
      "\n",
      "Confusion matrix data test LR Tuning 1 best estimator\n",
      "\n",
      "\n",
      "      Pred1  Pred0\n",
      "Akt1    595    333\n",
      "Akt0   1082   6228\n",
      "====================================================================================================\n",
      "Classification report data TRAIN LR Tuning 1 best estimator\n",
      "\n",
      "               precision    recall  f1-score   support\n",
      "\n",
      "           0       0.69      0.85      0.76     29238\n",
      "           1       0.81      0.62      0.70     29238\n",
      "\n",
      "    accuracy                           0.74     58476\n",
      "   macro avg       0.75      0.74      0.73     58476\n",
      "weighted avg       0.75      0.74      0.73     58476\n",
      "\n",
      "\n",
      "ROC AUC train : 0.74 \n",
      "\n",
      "\n",
      "Confusion matrix data train LR Tuning 1 best estimator\n",
      "\n",
      "\n",
      "      Pred1  Pred0\n",
      "Akt1  18125  11113\n",
      "Akt0   4378  24860\n"
     ]
    }
   ],
   "source": [
    "# evaluation matrix of the model\n",
    "\n",
    "conf_mat(LR_Tune, X_train_OS, X_test, y_train_OS, y_test, 'LR Tuning 1 best estimator')"
   ]
  },
  {
   "cell_type": "markdown",
   "metadata": {},
   "source": [
    "__2nd TUNING__"
   ]
  },
  {
   "cell_type": "code",
   "execution_count": 63,
   "metadata": {},
   "outputs": [],
   "source": [
    "# define the Logistic regression parameter for the 2nd hyperparameter tuning\n",
    "\n",
    "param_LR2 = {\n",
    "    'algo__C' : np.logspace(-6,-3),\n",
    "    'algo__class_weight' : [None, {0:.4, 1:.6}, {0:.3, 1:.7}, {0:.2, 1:.8}, {0:.1, 1:.9}],\n",
    "    'algo__fit_intercept' : [False, True],\n",
    "    'algo__penalty' : ['l1', 'l2', 'elasticnet', 'none']\n",
    "}"
   ]
  },
  {
   "cell_type": "code",
   "execution_count": 64,
   "metadata": {},
   "outputs": [],
   "source": [
    "# using gridsearchcv method for hyperparameter tuning with precision score as a benchmark\n",
    "\n",
    "LR_GS2 = GridSearchCV(pipe_LR, param_LR2, cv=skf, n_jobs=-1, verbose=1, scoring='precision')"
   ]
  },
  {
   "cell_type": "code",
   "execution_count": 65,
   "metadata": {},
   "outputs": [
    {
     "name": "stdout",
     "output_type": "stream",
     "text": [
      "Fitting 3 folds for each of 2000 candidates, totalling 6000 fits\n"
     ]
    },
    {
     "name": "stderr",
     "output_type": "stream",
     "text": [
      "[Parallel(n_jobs=-1)]: Using backend LokyBackend with 8 concurrent workers.\n",
      "[Parallel(n_jobs=-1)]: Done  34 tasks      | elapsed:    4.8s\n",
      "[Parallel(n_jobs=-1)]: Done 184 tasks      | elapsed:   28.8s\n",
      "[Parallel(n_jobs=-1)]: Done 434 tasks      | elapsed:  1.2min\n",
      "[Parallel(n_jobs=-1)]: Done 784 tasks      | elapsed:  2.1min\n",
      "[Parallel(n_jobs=-1)]: Done 1234 tasks      | elapsed:  3.2min\n",
      "[Parallel(n_jobs=-1)]: Done 1784 tasks      | elapsed:  4.6min\n",
      "[Parallel(n_jobs=-1)]: Done 2434 tasks      | elapsed:  6.3min\n",
      "[Parallel(n_jobs=-1)]: Done 3184 tasks      | elapsed:  8.3min\n",
      "[Parallel(n_jobs=-1)]: Done 4034 tasks      | elapsed: 10.7min\n",
      "[Parallel(n_jobs=-1)]: Done 4984 tasks      | elapsed: 13.6min\n",
      "[Parallel(n_jobs=-1)]: Done 6000 out of 6000 | elapsed: 16.7min finished\n"
     ]
    },
    {
     "data": {
      "text/plain": [
       "GridSearchCV(cv=StratifiedKFold(n_splits=3, random_state=None, shuffle=False),\n",
       "             estimator=Pipeline(steps=[('prep',\n",
       "                                        ColumnTransformer(transformers=[('numeric',\n",
       "                                                                         Pipeline(steps=[('scaler',\n",
       "                                                                                          RobustScaler())]),\n",
       "                                                                         ['age',\n",
       "                                                                          'education',\n",
       "                                                                          'pdays',\n",
       "                                                                          'previous',\n",
       "                                                                          'cons.price.idx',\n",
       "                                                                          'cons.conf.idx',\n",
       "                                                                          'euribor3m',\n",
       "                                                                          'nr.employed',\n",
       "                                                                          'emp.var.rate']),\n",
       "                                                                        ('categorical',\n",
       "                                                                         Pipeline(steps=[('encode...\n",
       "       2.81176870e-04, 3.23745754e-04, 3.72759372e-04, 4.29193426e-04,\n",
       "       4.94171336e-04, 5.68986603e-04, 6.55128557e-04, 7.54312006e-04,\n",
       "       8.68511374e-04, 1.00000000e-03]),\n",
       "                         'algo__class_weight': [None, {0: 0.4, 1: 0.6},\n",
       "                                                {0: 0.3, 1: 0.7},\n",
       "                                                {0: 0.2, 1: 0.8},\n",
       "                                                {0: 0.1, 1: 0.9}],\n",
       "                         'algo__fit_intercept': [False, True],\n",
       "                         'algo__penalty': ['l1', 'l2', 'elasticnet', 'none']},\n",
       "             scoring='precision', verbose=1)"
      ]
     },
     "execution_count": 65,
     "metadata": {},
     "output_type": "execute_result"
    }
   ],
   "source": [
    "# run hyperparameter tuning\n",
    "\n",
    "LR_GS2.fit(X_train_OS, y_train_OS)"
   ]
  },
  {
   "cell_type": "code",
   "execution_count": 66,
   "metadata": {},
   "outputs": [
    {
     "data": {
      "text/plain": [
       "{'algo__C': 1e-06,\n",
       " 'algo__class_weight': None,\n",
       " 'algo__fit_intercept': True,\n",
       " 'algo__penalty': 'l2'}"
      ]
     },
     "execution_count": 66,
     "metadata": {},
     "output_type": "execute_result"
    }
   ],
   "source": [
    "# show the best combination of parameters that create the best precision score\n",
    "\n",
    "LR_GS2.best_params_"
   ]
  },
  {
   "cell_type": "code",
   "execution_count": 67,
   "metadata": {},
   "outputs": [],
   "source": [
    "# Define Logistic regression model after tuning that have the best parameter\n",
    "\n",
    "LR_Tune2 = LR_GS2.best_estimator_"
   ]
  },
  {
   "cell_type": "code",
   "execution_count": 68,
   "metadata": {},
   "outputs": [
    {
     "data": {
      "text/plain": [
       "Pipeline(steps=[('prep',\n",
       "                 ColumnTransformer(transformers=[('numeric',\n",
       "                                                  Pipeline(steps=[('scaler',\n",
       "                                                                   RobustScaler())]),\n",
       "                                                  ['age', 'education', 'pdays',\n",
       "                                                   'previous', 'cons.price.idx',\n",
       "                                                   'cons.conf.idx', 'euribor3m',\n",
       "                                                   'nr.employed',\n",
       "                                                   'emp.var.rate']),\n",
       "                                                 ('categorical',\n",
       "                                                  Pipeline(steps=[('encoder',\n",
       "                                                                   OneHotEncoder())]),\n",
       "                                                  ['job', 'marital', 'default',\n",
       "                                                   'housing', 'loan', 'contact',\n",
       "                                                   'month', 'day_of_week',\n",
       "                                                   'poutcome'])])),\n",
       "                ('algo', LogisticRegression(C=1e-06))])"
      ]
     },
     "execution_count": 68,
     "metadata": {},
     "output_type": "execute_result"
    }
   ],
   "source": [
    "LR_Tune2.fit(X_train_OS, y_train_OS)"
   ]
  },
  {
   "cell_type": "code",
   "execution_count": 69,
   "metadata": {},
   "outputs": [
    {
     "name": "stdout",
     "output_type": "stream",
     "text": [
      "Classification report data TEST LR Tuning 2 best estimator\n",
      "\n",
      "               precision    recall  f1-score   support\n",
      "\n",
      "           0       0.91      0.99      0.94      7310\n",
      "           1       0.65      0.20      0.31       928\n",
      "\n",
      "    accuracy                           0.90      8238\n",
      "   macro avg       0.78      0.59      0.63      8238\n",
      "weighted avg       0.88      0.90      0.87      8238\n",
      "\n",
      "\n",
      "ROC AUC test : 0.59 \n",
      "\n",
      "\n",
      "Confusion matrix data test LR Tuning 2 best estimator\n",
      "\n",
      "\n",
      "      Pred1  Pred0\n",
      "Akt1    187    741\n",
      "Akt0    102   7208\n",
      "====================================================================================================\n",
      "Classification report data TRAIN LR Tuning 2 best estimator\n",
      "\n",
      "               precision    recall  f1-score   support\n",
      "\n",
      "           0       0.55      0.98      0.71     29238\n",
      "           1       0.93      0.21      0.34     29238\n",
      "\n",
      "    accuracy                           0.60     58476\n",
      "   macro avg       0.74      0.60      0.53     58476\n",
      "weighted avg       0.74      0.60      0.53     58476\n",
      "\n",
      "\n",
      "ROC AUC train : 0.6 \n",
      "\n",
      "\n",
      "Confusion matrix data train LR Tuning 2 best estimator\n",
      "\n",
      "\n",
      "      Pred1  Pred0\n",
      "Akt1   6143  23095\n",
      "Akt0    446  28792\n"
     ]
    }
   ],
   "source": [
    "conf_mat(LR_Tune2, X_train_OS, X_test, y_train_OS, y_test, 'LR Tuning 2 best estimator')"
   ]
  },
  {
   "cell_type": "markdown",
   "metadata": {},
   "source": [
    "_____________"
   ]
  },
  {
   "cell_type": "markdown",
   "metadata": {},
   "source": [
    "## HYPERPARAMETER TUNING DECISION TREE"
   ]
  },
  {
   "cell_type": "markdown",
   "metadata": {},
   "source": [
    "__Default parameter__\n",
    "- 'algo__max_depth': None\n",
    "- 'algo__min_samples_leaf': 1\n",
    "- 'algo__max_features': None\n",
    "- 'algo__class_weight': None"
   ]
  },
  {
   "cell_type": "markdown",
   "metadata": {},
   "source": [
    "__1st TUNING__"
   ]
  },
  {
   "cell_type": "code",
   "execution_count": 83,
   "metadata": {},
   "outputs": [],
   "source": [
    "# define the Decision tree parameter for the 1st hyperparameter tuning\n",
    "\n",
    "param_DT = {\n",
    "    'algo__max_depth': list(np.arange(0, 101, 5)) + [None],\n",
    "    'algo__min_samples_leaf': np.arange(1, 1000, 50),\n",
    "    'algo__max_features': [None, 0.2, 0.5, 0.8, 1],\n",
    "    'algo__class_weight': [None, {0:.4, 1:.6}, {0:.3, 1:.7}, {0:.2, 1:.8}]\n",
    "}"
   ]
  },
  {
   "cell_type": "code",
   "execution_count": 84,
   "metadata": {},
   "outputs": [],
   "source": [
    "# using randomizedsearchcv method for hyperparameter tuning with precision score as a benchmark\n",
    "\n",
    "DT_RS = RandomizedSearchCV(pipe_DT, param_DT, cv=skf, n_iter=2000, n_jobs=-1, verbose=1, random_state=42, scoring='precision')"
   ]
  },
  {
   "cell_type": "code",
   "execution_count": 85,
   "metadata": {},
   "outputs": [
    {
     "name": "stdout",
     "output_type": "stream",
     "text": [
      "Fitting 3 folds for each of 2000 candidates, totalling 6000 fits\n"
     ]
    },
    {
     "name": "stderr",
     "output_type": "stream",
     "text": [
      "[Parallel(n_jobs=-1)]: Using backend LokyBackend with 8 concurrent workers.\n",
      "[Parallel(n_jobs=-1)]: Done  34 tasks      | elapsed:    2.9s\n",
      "[Parallel(n_jobs=-1)]: Done 184 tasks      | elapsed:   22.8s\n",
      "[Parallel(n_jobs=-1)]: Done 434 tasks      | elapsed:   58.5s\n",
      "[Parallel(n_jobs=-1)]: Done 784 tasks      | elapsed:  1.8min\n",
      "[Parallel(n_jobs=-1)]: Done 1234 tasks      | elapsed:  2.7min\n",
      "[Parallel(n_jobs=-1)]: Done 1784 tasks      | elapsed:  4.0min\n",
      "[Parallel(n_jobs=-1)]: Done 2434 tasks      | elapsed:  5.5min\n",
      "[Parallel(n_jobs=-1)]: Done 3184 tasks      | elapsed:  7.2min\n",
      "[Parallel(n_jobs=-1)]: Done 4034 tasks      | elapsed:  8.9min\n",
      "[Parallel(n_jobs=-1)]: Done 4984 tasks      | elapsed: 10.7min\n",
      "[Parallel(n_jobs=-1)]: Done 6000 out of 6000 | elapsed: 12.4min finished\n"
     ]
    },
    {
     "data": {
      "text/plain": [
       "RandomizedSearchCV(cv=StratifiedKFold(n_splits=3, random_state=None, shuffle=False),\n",
       "                   estimator=Pipeline(steps=[('prep',\n",
       "                                              ColumnTransformer(transformers=[('numeric',\n",
       "                                                                               Pipeline(steps=[('scaler',\n",
       "                                                                                                RobustScaler())]),\n",
       "                                                                               ['age',\n",
       "                                                                                'education',\n",
       "                                                                                'pdays',\n",
       "                                                                                'previous',\n",
       "                                                                                'cons.price.idx',\n",
       "                                                                                'cons.conf.idx',\n",
       "                                                                                'euribor3m',\n",
       "                                                                                'nr.employed',\n",
       "                                                                                'emp.var.rate']),\n",
       "                                                                              ('categorical',\n",
       "                                                                               Pipeline(steps=[('...\n",
       "                   param_distributions={'algo__class_weight': [None,\n",
       "                                                               {0: 0.4, 1: 0.6},\n",
       "                                                               {0: 0.3, 1: 0.7},\n",
       "                                                               {0: 0.2,\n",
       "                                                                1: 0.8}],\n",
       "                                        'algo__max_depth': [0, 5, 10, 15, 20,\n",
       "                                                            25, 30, 35, 40, 45,\n",
       "                                                            50, 55, 60, 65, 70,\n",
       "                                                            75, 80, 85, 90, 95,\n",
       "                                                            100, None],\n",
       "                                        'algo__max_features': [None, 0.2, 0.5,\n",
       "                                                               0.8, 1],\n",
       "                                        'algo__min_samples_leaf': array([  1,  51, 101, 151, 201, 251, 301, 351, 401, 451, 501, 551, 601,\n",
       "       651, 701, 751, 801, 851, 901, 951])},\n",
       "                   random_state=42, scoring='precision', verbose=1)"
      ]
     },
     "execution_count": 85,
     "metadata": {},
     "output_type": "execute_result"
    }
   ],
   "source": [
    "# run hyperparameter tuning\n",
    "\n",
    "DT_RS.fit(X_train_OS, y_train_OS)"
   ]
  },
  {
   "cell_type": "code",
   "execution_count": 86,
   "metadata": {},
   "outputs": [
    {
     "data": {
      "text/plain": [
       "{'algo__min_samples_leaf': 1,\n",
       " 'algo__max_features': 0.8,\n",
       " 'algo__max_depth': 95,\n",
       " 'algo__class_weight': {0: 0.2, 1: 0.8}}"
      ]
     },
     "execution_count": 86,
     "metadata": {},
     "output_type": "execute_result"
    }
   ],
   "source": [
    "# show the best combination of parameters that create the best precision score\n",
    "\n",
    "DT_RS.best_params_"
   ]
  },
  {
   "cell_type": "code",
   "execution_count": 87,
   "metadata": {},
   "outputs": [],
   "source": [
    "# Define Decision tree model after tuning that have the best parameter\n",
    "\n",
    "DT_Tune = DT_RS.best_estimator_"
   ]
  },
  {
   "cell_type": "code",
   "execution_count": 88,
   "metadata": {},
   "outputs": [
    {
     "data": {
      "text/plain": [
       "Pipeline(steps=[('prep',\n",
       "                 ColumnTransformer(transformers=[('numeric',\n",
       "                                                  Pipeline(steps=[('scaler',\n",
       "                                                                   RobustScaler())]),\n",
       "                                                  ['age', 'education', 'pdays',\n",
       "                                                   'previous', 'cons.price.idx',\n",
       "                                                   'cons.conf.idx', 'euribor3m',\n",
       "                                                   'nr.employed',\n",
       "                                                   'emp.var.rate']),\n",
       "                                                 ('categorical',\n",
       "                                                  Pipeline(steps=[('encoder',\n",
       "                                                                   OneHotEncoder())]),\n",
       "                                                  ['job', 'marital', 'default',\n",
       "                                                   'housing', 'loan', 'contact',\n",
       "                                                   'month', 'day_of_week',\n",
       "                                                   'poutcome'])])),\n",
       "                ('algo',\n",
       "                 DecisionTreeClassifier(class_weight={0: 0.2, 1: 0.8},\n",
       "                                        max_depth=95, max_features=0.8,\n",
       "                                        random_state=42))])"
      ]
     },
     "execution_count": 88,
     "metadata": {},
     "output_type": "execute_result"
    }
   ],
   "source": [
    "DT_Tune.fit(X_train_OS, y_train_OS)"
   ]
  },
  {
   "cell_type": "code",
   "execution_count": 89,
   "metadata": {},
   "outputs": [
    {
     "name": "stdout",
     "output_type": "stream",
     "text": [
      "Classification report data TEST DT Tuning 1 best estimator\n",
      "\n",
      "               precision    recall  f1-score   support\n",
      "\n",
      "           0       0.91      0.91      0.91      7310\n",
      "           1       0.32      0.33      0.33       928\n",
      "\n",
      "    accuracy                           0.85      8238\n",
      "   macro avg       0.62      0.62      0.62      8238\n",
      "weighted avg       0.85      0.85      0.85      8238\n",
      "\n",
      "\n",
      "ROC AUC test : 0.62 \n",
      "\n",
      "\n",
      "Confusion matrix data test DT Tuning 1 best estimator\n",
      "\n",
      "\n",
      "      Pred1  Pred0\n",
      "Akt1    307    621\n",
      "Akt0    646   6664\n",
      "====================================================================================================\n",
      "Classification report data TRAIN DT Tuning 1 best estimator\n",
      "\n",
      "               precision    recall  f1-score   support\n",
      "\n",
      "           0       1.00      0.98      0.99     29238\n",
      "           1       0.98      1.00      0.99     29238\n",
      "\n",
      "    accuracy                           0.99     58476\n",
      "   macro avg       0.99      0.99      0.99     58476\n",
      "weighted avg       0.99      0.99      0.99     58476\n",
      "\n",
      "\n",
      "ROC AUC train : 0.99 \n",
      "\n",
      "\n",
      "Confusion matrix data train DT Tuning 1 best estimator\n",
      "\n",
      "\n",
      "      Pred1  Pred0\n",
      "Akt1  29238      0\n",
      "Akt0    452  28786\n"
     ]
    }
   ],
   "source": [
    "conf_mat(DT_Tune, X_train_OS, X_test, y_train_OS, y_test, 'DT Tuning 1 best estimator')"
   ]
  },
  {
   "cell_type": "markdown",
   "metadata": {},
   "source": [
    "__2nd TUNING__"
   ]
  },
  {
   "cell_type": "code",
   "execution_count": 92,
   "metadata": {},
   "outputs": [],
   "source": [
    "# define the Decision tree parameter for the 2nd hyperparameter tuning\n",
    "\n",
    "param_DT2 = {\n",
    "    'algo__max_depth': list(np.arange(50, 151, 5)) + [None],\n",
    "    'algo__min_samples_leaf': np.arange(1, 100, 10),\n",
    "    'algo__max_features': [None, 0.2, 0.5, 0.8, 1],\n",
    "    'algo__class_weight': [None, {0:.4, 1:.6}, {0:.3, 1:.7}, {0:.2, 1:.8}]\n",
    "}"
   ]
  },
  {
   "cell_type": "code",
   "execution_count": 96,
   "metadata": {},
   "outputs": [],
   "source": [
    "# using randomizedsearchcv method for hyperparameter tuning with precision score as a benchmark\n",
    "\n",
    "DT_RS2 = RandomizedSearchCV(pipe_DT, param_DT2, cv=skf, n_iter=2000, n_jobs=-1, verbose=1, random_state=42, scoring='precision')"
   ]
  },
  {
   "cell_type": "code",
   "execution_count": 97,
   "metadata": {},
   "outputs": [
    {
     "name": "stdout",
     "output_type": "stream",
     "text": [
      "Fitting 3 folds for each of 2000 candidates, totalling 6000 fits\n"
     ]
    },
    {
     "name": "stderr",
     "output_type": "stream",
     "text": [
      "[Parallel(n_jobs=-1)]: Using backend LokyBackend with 8 concurrent workers.\n",
      "[Parallel(n_jobs=-1)]: Done  34 tasks      | elapsed:    4.4s\n",
      "[Parallel(n_jobs=-1)]: Done 184 tasks      | elapsed:   21.5s\n",
      "[Parallel(n_jobs=-1)]: Done 434 tasks      | elapsed:   48.9s\n",
      "[Parallel(n_jobs=-1)]: Done 784 tasks      | elapsed:  1.5min\n",
      "[Parallel(n_jobs=-1)]: Done 1234 tasks      | elapsed:  2.3min\n",
      "[Parallel(n_jobs=-1)]: Done 1784 tasks      | elapsed:  3.4min\n",
      "[Parallel(n_jobs=-1)]: Done 2434 tasks      | elapsed:  4.7min\n",
      "[Parallel(n_jobs=-1)]: Done 3184 tasks      | elapsed:  6.3min\n",
      "[Parallel(n_jobs=-1)]: Done 4034 tasks      | elapsed:  8.1min\n",
      "[Parallel(n_jobs=-1)]: Done 4984 tasks      | elapsed: 10.1min\n",
      "[Parallel(n_jobs=-1)]: Done 6000 out of 6000 | elapsed: 12.2min finished\n"
     ]
    },
    {
     "data": {
      "text/plain": [
       "RandomizedSearchCV(cv=StratifiedKFold(n_splits=3, random_state=None, shuffle=False),\n",
       "                   estimator=Pipeline(steps=[('prep',\n",
       "                                              ColumnTransformer(transformers=[('numeric',\n",
       "                                                                               Pipeline(steps=[('scaler',\n",
       "                                                                                                RobustScaler())]),\n",
       "                                                                               ['age',\n",
       "                                                                                'education',\n",
       "                                                                                'pdays',\n",
       "                                                                                'previous',\n",
       "                                                                                'cons.price.idx',\n",
       "                                                                                'cons.conf.idx',\n",
       "                                                                                'euribor3m',\n",
       "                                                                                'nr.employed',\n",
       "                                                                                'emp.var.rate']),\n",
       "                                                                              ('categorical',\n",
       "                                                                               Pipeline(steps=[('...\n",
       "                   n_iter=2000, n_jobs=-1,\n",
       "                   param_distributions={'algo__class_weight': [None,\n",
       "                                                               {0: 0.4, 1: 0.6},\n",
       "                                                               {0: 0.3, 1: 0.7},\n",
       "                                                               {0: 0.2,\n",
       "                                                                1: 0.8}],\n",
       "                                        'algo__max_depth': [50, 55, 60, 65, 70,\n",
       "                                                            75, 80, 85, 90, 95,\n",
       "                                                            100, 105, 110, 115,\n",
       "                                                            120, 125, 130, 135,\n",
       "                                                            140, 145, 150,\n",
       "                                                            None],\n",
       "                                        'algo__max_features': [None, 0.2, 0.5,\n",
       "                                                               0.8, 1],\n",
       "                                        'algo__min_samples_leaf': array([ 1, 11, 21, 31, 41, 51, 61, 71, 81, 91])},\n",
       "                   random_state=42, scoring='precision', verbose=1)"
      ]
     },
     "execution_count": 97,
     "metadata": {},
     "output_type": "execute_result"
    }
   ],
   "source": [
    "# run hyperparameter tuning\n",
    "\n",
    "DT_RS2.fit(X_train_OS, y_train_OS)"
   ]
  },
  {
   "cell_type": "code",
   "execution_count": 98,
   "metadata": {},
   "outputs": [
    {
     "data": {
      "text/plain": [
       "{'algo__min_samples_leaf': 1,\n",
       " 'algo__max_features': 0.8,\n",
       " 'algo__max_depth': 60,\n",
       " 'algo__class_weight': {0: 0.2, 1: 0.8}}"
      ]
     },
     "execution_count": 98,
     "metadata": {},
     "output_type": "execute_result"
    }
   ],
   "source": [
    "# show the best combination of parameters that create the best precision score\n",
    "\n",
    "DT_RS2.best_params_"
   ]
  },
  {
   "cell_type": "code",
   "execution_count": 99,
   "metadata": {},
   "outputs": [],
   "source": [
    "# Define Decision tree model after tuning that have the best parameter\n",
    "\n",
    "DT_Tune2 = DT_RS2.best_estimator_"
   ]
  },
  {
   "cell_type": "code",
   "execution_count": 100,
   "metadata": {},
   "outputs": [
    {
     "data": {
      "text/plain": [
       "Pipeline(steps=[('prep',\n",
       "                 ColumnTransformer(transformers=[('numeric',\n",
       "                                                  Pipeline(steps=[('scaler',\n",
       "                                                                   RobustScaler())]),\n",
       "                                                  ['age', 'education', 'pdays',\n",
       "                                                   'previous', 'cons.price.idx',\n",
       "                                                   'cons.conf.idx', 'euribor3m',\n",
       "                                                   'nr.employed',\n",
       "                                                   'emp.var.rate']),\n",
       "                                                 ('categorical',\n",
       "                                                  Pipeline(steps=[('encoder',\n",
       "                                                                   OneHotEncoder())]),\n",
       "                                                  ['job', 'marital', 'default',\n",
       "                                                   'housing', 'loan', 'contact',\n",
       "                                                   'month', 'day_of_week',\n",
       "                                                   'poutcome'])])),\n",
       "                ('algo',\n",
       "                 DecisionTreeClassifier(class_weight={0: 0.2, 1: 0.8},\n",
       "                                        max_depth=60, max_features=0.8,\n",
       "                                        random_state=42))])"
      ]
     },
     "execution_count": 100,
     "metadata": {},
     "output_type": "execute_result"
    }
   ],
   "source": [
    "DT_Tune2.fit(X_train_OS, y_train_OS)"
   ]
  },
  {
   "cell_type": "code",
   "execution_count": 101,
   "metadata": {},
   "outputs": [
    {
     "name": "stdout",
     "output_type": "stream",
     "text": [
      "Classification report data TEST DT Tuning 2 best estimator\n",
      "\n",
      "               precision    recall  f1-score   support\n",
      "\n",
      "           0       0.91      0.91      0.91      7310\n",
      "           1       0.32      0.33      0.33       928\n",
      "\n",
      "    accuracy                           0.85      8238\n",
      "   macro avg       0.62      0.62      0.62      8238\n",
      "weighted avg       0.85      0.85      0.85      8238\n",
      "\n",
      "\n",
      "ROC AUC test : 0.62 \n",
      "\n",
      "\n",
      "Confusion matrix data test DT Tuning 2 best estimator\n",
      "\n",
      "\n",
      "      Pred1  Pred0\n",
      "Akt1    307    621\n",
      "Akt0    646   6664\n",
      "====================================================================================================\n",
      "Classification report data TRAIN DT Tuning 2 best estimator\n",
      "\n",
      "               precision    recall  f1-score   support\n",
      "\n",
      "           0       1.00      0.98      0.99     29238\n",
      "           1       0.98      1.00      0.99     29238\n",
      "\n",
      "    accuracy                           0.99     58476\n",
      "   macro avg       0.99      0.99      0.99     58476\n",
      "weighted avg       0.99      0.99      0.99     58476\n",
      "\n",
      "\n",
      "ROC AUC train : 0.99 \n",
      "\n",
      "\n",
      "Confusion matrix data train DT Tuning 2 best estimator\n",
      "\n",
      "\n",
      "      Pred1  Pred0\n",
      "Akt1  29238      0\n",
      "Akt0    452  28786\n"
     ]
    }
   ],
   "source": [
    "conf_mat(DT_Tune2, X_train_OS, X_test, y_train_OS, y_test, 'DT Tuning 2 best estimator')"
   ]
  },
  {
   "cell_type": "markdown",
   "metadata": {},
   "source": [
    "_____________"
   ]
  },
  {
   "cell_type": "markdown",
   "metadata": {},
   "source": [
    "## HYPERPARAMETER TUNING RANDOM FOREST"
   ]
  },
  {
   "cell_type": "markdown",
   "metadata": {},
   "source": [
    "__Default__\n",
    "- 'algo__n_estimators': 100,\n",
    "- 'algo__max_depth': None,\n",
    "- 'algo__min_samples_leaf': 1,\n",
    "- 'algo__class_weight': None"
   ]
  },
  {
   "cell_type": "markdown",
   "metadata": {},
   "source": [
    "__1st TUNING__"
   ]
  },
  {
   "cell_type": "code",
   "execution_count": 103,
   "metadata": {},
   "outputs": [],
   "source": [
    "# define the Random Forest parameter for the 1st hyperparameter tuning\n",
    "\n",
    "param_RF = {\n",
    "    'algo__n_estimators' : np.arange(100, 1000, 100),\n",
    "    'algo__max_depth' : list(np.arange(10, 100, 10)) + [None],\n",
    "    'algo__min_samples_leaf' : list(np.arange(10, 100, 10)) + [1],\n",
    "    'algo__class_weight' : [None, {0:.4, 1:.6}, {0:.3, 1:.7}, {0:.2, 1:.8}, {0:.15, 1: .85}, {0:.1, 1:.9}]\n",
    "}"
   ]
  },
  {
   "cell_type": "code",
   "execution_count": 104,
   "metadata": {},
   "outputs": [],
   "source": [
    "# using randomizedsearchcv method for hyperparameter tuning with precision score as a benchmark\n",
    "\n",
    "RF_RS = RandomizedSearchCV(pipe_RF, param_RF, cv=skf, n_iter=200, n_jobs=-1, verbose=1, random_state=42, scoring='precision')"
   ]
  },
  {
   "cell_type": "code",
   "execution_count": 105,
   "metadata": {},
   "outputs": [
    {
     "name": "stdout",
     "output_type": "stream",
     "text": [
      "Fitting 3 folds for each of 200 candidates, totalling 600 fits\n"
     ]
    },
    {
     "name": "stderr",
     "output_type": "stream",
     "text": [
      "[Parallel(n_jobs=-1)]: Using backend LokyBackend with 8 concurrent workers.\n",
      "[Parallel(n_jobs=-1)]: Done  34 tasks      | elapsed:  3.0min\n",
      "[Parallel(n_jobs=-1)]: Done 184 tasks      | elapsed: 19.6min\n",
      "[Parallel(n_jobs=-1)]: Done 434 tasks      | elapsed: 155.9min\n",
      "[Parallel(n_jobs=-1)]: Done 600 out of 600 | elapsed: 176.5min finished\n"
     ]
    },
    {
     "data": {
      "text/plain": [
       "RandomizedSearchCV(cv=StratifiedKFold(n_splits=3, random_state=None, shuffle=False),\n",
       "                   estimator=Pipeline(steps=[('prep',\n",
       "                                              ColumnTransformer(transformers=[('numeric',\n",
       "                                                                               Pipeline(steps=[('scaler',\n",
       "                                                                                                RobustScaler())]),\n",
       "                                                                               ['age',\n",
       "                                                                                'education',\n",
       "                                                                                'pdays',\n",
       "                                                                                'previous',\n",
       "                                                                                'cons.price.idx',\n",
       "                                                                                'cons.conf.idx',\n",
       "                                                                                'euribor3m',\n",
       "                                                                                'nr.employed',\n",
       "                                                                                'emp.var.rate']),\n",
       "                                                                              ('categorical',\n",
       "                                                                               Pipeline(steps=[('...\n",
       "                   n_iter=200, n_jobs=-1,\n",
       "                   param_distributions={'algo__class_weight': [None,\n",
       "                                                               {0: 0.4, 1: 0.6},\n",
       "                                                               {0: 0.3, 1: 0.7},\n",
       "                                                               {0: 0.2, 1: 0.8},\n",
       "                                                               {0: 0.15,\n",
       "                                                                1: 0.85},\n",
       "                                                               {0: 0.1,\n",
       "                                                                1: 0.9}],\n",
       "                                        'algo__max_depth': [10, 20, 30, 40, 50,\n",
       "                                                            60, 70, 80, 90,\n",
       "                                                            None],\n",
       "                                        'algo__min_samples_leaf': [10, 20, 30,\n",
       "                                                                   40, 50, 60,\n",
       "                                                                   70, 80, 90,\n",
       "                                                                   1],\n",
       "                                        'algo__n_estimators': array([100, 200, 300, 400, 500, 600, 700, 800, 900])},\n",
       "                   random_state=42, scoring='precision', verbose=1)"
      ]
     },
     "execution_count": 105,
     "metadata": {},
     "output_type": "execute_result"
    }
   ],
   "source": [
    "# run hyperparameter tuning\n",
    "\n",
    "RF_RS.fit(X_train_OS, y_train_OS)"
   ]
  },
  {
   "cell_type": "code",
   "execution_count": 133,
   "metadata": {},
   "outputs": [
    {
     "data": {
      "text/plain": [
       "{'algo__n_estimators': 100,\n",
       " 'algo__min_samples_leaf': 1,\n",
       " 'algo__max_depth': 90,\n",
       " 'algo__class_weight': {0: 0.2, 1: 0.8}}"
      ]
     },
     "execution_count": 133,
     "metadata": {},
     "output_type": "execute_result"
    }
   ],
   "source": [
    "# show the best combination of parameters that create the best precision score\n",
    "\n",
    "RF_RS.best_params_"
   ]
  },
  {
   "cell_type": "code",
   "execution_count": 134,
   "metadata": {},
   "outputs": [],
   "source": [
    "# Define Random Forest model after tuning that have the best parameter\n",
    "\n",
    "RF_Tune = RF_RS.best_estimator_"
   ]
  },
  {
   "cell_type": "code",
   "execution_count": 135,
   "metadata": {},
   "outputs": [
    {
     "data": {
      "text/plain": [
       "Pipeline(steps=[('prep',\n",
       "                 ColumnTransformer(transformers=[('numeric',\n",
       "                                                  Pipeline(steps=[('scaler',\n",
       "                                                                   RobustScaler())]),\n",
       "                                                  ['age', 'education', 'pdays',\n",
       "                                                   'previous', 'cons.price.idx',\n",
       "                                                   'cons.conf.idx', 'euribor3m',\n",
       "                                                   'nr.employed',\n",
       "                                                   'emp.var.rate']),\n",
       "                                                 ('categorical',\n",
       "                                                  Pipeline(steps=[('encoder',\n",
       "                                                                   OneHotEncoder())]),\n",
       "                                                  ['job', 'marital', 'default',\n",
       "                                                   'housing', 'loan', 'contact',\n",
       "                                                   'month', 'day_of_week',\n",
       "                                                   'poutcome'])])),\n",
       "                ('algo',\n",
       "                 RandomForestClassifier(class_weight={0: 0.2, 1: 0.8},\n",
       "                                        max_depth=90, random_state=42))])"
      ]
     },
     "execution_count": 135,
     "metadata": {},
     "output_type": "execute_result"
    }
   ],
   "source": [
    "RF_Tune.fit(X_train_OS, y_train_OS)"
   ]
  },
  {
   "cell_type": "code",
   "execution_count": 136,
   "metadata": {},
   "outputs": [
    {
     "name": "stdout",
     "output_type": "stream",
     "text": [
      "Classification report data TEST RF Tuning best estimator\n",
      "\n",
      "               precision    recall  f1-score   support\n",
      "\n",
      "           0       0.93      0.94      0.93      7310\n",
      "           1       0.45      0.41      0.43       928\n",
      "\n",
      "    accuracy                           0.88      8238\n",
      "   macro avg       0.69      0.67      0.68      8238\n",
      "weighted avg       0.87      0.88      0.87      8238\n",
      "\n",
      "\n",
      "ROC AUC test : 0.67 \n",
      "\n",
      "\n",
      "Confusion matrix data test RF Tuning best estimator\n",
      "\n",
      "\n",
      "      Pred1  Pred0\n",
      "Akt1    379    549\n",
      "Akt0    471   6839\n",
      "====================================================================================================\n",
      "Classification report data TRAIN RF Tuning best estimator\n",
      "\n",
      "               precision    recall  f1-score   support\n",
      "\n",
      "           0       1.00      0.98      0.99     29238\n",
      "           1       0.98      1.00      0.99     29238\n",
      "\n",
      "    accuracy                           0.99     58476\n",
      "   macro avg       0.99      0.99      0.99     58476\n",
      "weighted avg       0.99      0.99      0.99     58476\n",
      "\n",
      "\n",
      "ROC AUC train : 0.99 \n",
      "\n",
      "\n",
      "Confusion matrix data train RF Tuning best estimator\n",
      "\n",
      "\n",
      "      Pred1  Pred0\n",
      "Akt1  29238      0\n",
      "Akt0    452  28786\n"
     ]
    }
   ],
   "source": [
    "conf_mat(RF_Tune, X_train_OS, X_test, y_train_OS, y_test, 'RF Tuning best estimator')"
   ]
  },
  {
   "cell_type": "markdown",
   "metadata": {},
   "source": [
    "__2nd TUNING__"
   ]
  },
  {
   "cell_type": "code",
   "execution_count": 110,
   "metadata": {},
   "outputs": [],
   "source": [
    "# define the Random Forest parameter for the 2nd hyperparameter tuning\n",
    "\n",
    "param_RF2 = {\n",
    "    'algo__n_estimators' : [10, 20, 30, 50, 80, 100],\n",
    "    'algo__max_depth' : [None, 1, 3, 5, 8, 10],\n",
    "    'algo__min_samples_leaf' : [1, 3, 5, 8, 10],\n",
    "    'algo__class_weight' : [None, {0:.4, 1:.6}, {0:.3, 1:.7}, {0:.2, 1:.8}, {0:.1, 1:.9}]\n",
    "}"
   ]
  },
  {
   "cell_type": "code",
   "execution_count": 111,
   "metadata": {},
   "outputs": [],
   "source": [
    "# using randomizedsearchcv method for hyperparameter tuning with precision score as a benchmark\n",
    "\n",
    "RF_RS2 = RandomizedSearchCV(pipe_RF, param_RF2, cv=skf, n_iter=200, n_jobs=-1, verbose=1, random_state=42, scoring='precision')"
   ]
  },
  {
   "cell_type": "code",
   "execution_count": 112,
   "metadata": {},
   "outputs": [
    {
     "name": "stdout",
     "output_type": "stream",
     "text": [
      "Fitting 3 folds for each of 200 candidates, totalling 600 fits\n"
     ]
    },
    {
     "name": "stderr",
     "output_type": "stream",
     "text": [
      "[Parallel(n_jobs=-1)]: Using backend LokyBackend with 8 concurrent workers.\n",
      "[Parallel(n_jobs=-1)]: Done  34 tasks      | elapsed:   22.2s\n",
      "[Parallel(n_jobs=-1)]: Done 184 tasks      | elapsed:  1.9min\n",
      "[Parallel(n_jobs=-1)]: Done 434 tasks      | elapsed:  4.0min\n",
      "[Parallel(n_jobs=-1)]: Done 600 out of 600 | elapsed:  5.6min finished\n"
     ]
    },
    {
     "data": {
      "text/plain": [
       "RandomizedSearchCV(cv=StratifiedKFold(n_splits=3, random_state=None, shuffle=False),\n",
       "                   estimator=Pipeline(steps=[('prep',\n",
       "                                              ColumnTransformer(transformers=[('numeric',\n",
       "                                                                               Pipeline(steps=[('scaler',\n",
       "                                                                                                RobustScaler())]),\n",
       "                                                                               ['age',\n",
       "                                                                                'education',\n",
       "                                                                                'pdays',\n",
       "                                                                                'previous',\n",
       "                                                                                'cons.price.idx',\n",
       "                                                                                'cons.conf.idx',\n",
       "                                                                                'euribor3m',\n",
       "                                                                                'nr.employed',\n",
       "                                                                                'emp.var.rate']),\n",
       "                                                                              ('categorical',\n",
       "                                                                               Pipeline(steps=[('...\n",
       "                                                                                'poutcome'])])),\n",
       "                                             ('algo',\n",
       "                                              RandomForestClassifier(random_state=42))]),\n",
       "                   n_iter=200, n_jobs=-1,\n",
       "                   param_distributions={'algo__class_weight': [None,\n",
       "                                                               {0: 0.4, 1: 0.6},\n",
       "                                                               {0: 0.3, 1: 0.7},\n",
       "                                                               {0: 0.2, 1: 0.8},\n",
       "                                                               {0: 0.1,\n",
       "                                                                1: 0.9}],\n",
       "                                        'algo__max_depth': [None, 1, 3, 5, 8,\n",
       "                                                            10],\n",
       "                                        'algo__min_samples_leaf': [1, 3, 5, 8,\n",
       "                                                                   10],\n",
       "                                        'algo__n_estimators': [10, 20, 30, 50,\n",
       "                                                               80, 100]},\n",
       "                   random_state=42, scoring='precision', verbose=1)"
      ]
     },
     "execution_count": 112,
     "metadata": {},
     "output_type": "execute_result"
    }
   ],
   "source": [
    "# run hyperparameter tuning\n",
    "\n",
    "RF_RS2.fit(X_train_OS, y_train_OS)"
   ]
  },
  {
   "cell_type": "code",
   "execution_count": 137,
   "metadata": {},
   "outputs": [
    {
     "data": {
      "text/plain": [
       "{'algo__n_estimators': 10,\n",
       " 'algo__min_samples_leaf': 1,\n",
       " 'algo__max_depth': None,\n",
       " 'algo__class_weight': {0: 0.3, 1: 0.7}}"
      ]
     },
     "execution_count": 137,
     "metadata": {},
     "output_type": "execute_result"
    }
   ],
   "source": [
    "# show the best combination of parameters that create the best precision score\n",
    "\n",
    "RF_RS2.best_params_"
   ]
  },
  {
   "cell_type": "code",
   "execution_count": 138,
   "metadata": {},
   "outputs": [],
   "source": [
    "# Define Random Forest model after tuning that have the best parameter\n",
    "\n",
    "RF_Tune2 = RF_RS2.best_estimator_"
   ]
  },
  {
   "cell_type": "code",
   "execution_count": 139,
   "metadata": {},
   "outputs": [
    {
     "data": {
      "text/plain": [
       "Pipeline(steps=[('prep',\n",
       "                 ColumnTransformer(transformers=[('numeric',\n",
       "                                                  Pipeline(steps=[('scaler',\n",
       "                                                                   RobustScaler())]),\n",
       "                                                  ['age', 'education', 'pdays',\n",
       "                                                   'previous', 'cons.price.idx',\n",
       "                                                   'cons.conf.idx', 'euribor3m',\n",
       "                                                   'nr.employed',\n",
       "                                                   'emp.var.rate']),\n",
       "                                                 ('categorical',\n",
       "                                                  Pipeline(steps=[('encoder',\n",
       "                                                                   OneHotEncoder())]),\n",
       "                                                  ['job', 'marital', 'default',\n",
       "                                                   'housing', 'loan', 'contact',\n",
       "                                                   'month', 'day_of_week',\n",
       "                                                   'poutcome'])])),\n",
       "                ('algo',\n",
       "                 RandomForestClassifier(class_weight={0: 0.3, 1: 0.7},\n",
       "                                        n_estimators=10, random_state=42))])"
      ]
     },
     "execution_count": 139,
     "metadata": {},
     "output_type": "execute_result"
    }
   ],
   "source": [
    "RF_Tune2.fit(X_train_OS, y_train_OS)"
   ]
  },
  {
   "cell_type": "code",
   "execution_count": 140,
   "metadata": {},
   "outputs": [
    {
     "name": "stdout",
     "output_type": "stream",
     "text": [
      "Classification report data TEST RF Tuning 2 best estimator\n",
      "\n",
      "               precision    recall  f1-score   support\n",
      "\n",
      "           0       0.92      0.94      0.93      7310\n",
      "           1       0.41      0.36      0.39       928\n",
      "\n",
      "    accuracy                           0.87      8238\n",
      "   macro avg       0.67      0.65      0.66      8238\n",
      "weighted avg       0.86      0.87      0.87      8238\n",
      "\n",
      "\n",
      "ROC AUC test : 0.65 \n",
      "\n",
      "\n",
      "Confusion matrix data test RF Tuning 2 best estimator\n",
      "\n",
      "\n",
      "      Pred1  Pred0\n",
      "Akt1    334    594\n",
      "Akt0    473   6837\n",
      "====================================================================================================\n",
      "Classification report data TRAIN RF Tuning 2 best estimator\n",
      "\n",
      "               precision    recall  f1-score   support\n",
      "\n",
      "           0       1.00      0.98      0.99     29238\n",
      "           1       0.98      1.00      0.99     29238\n",
      "\n",
      "    accuracy                           0.99     58476\n",
      "   macro avg       0.99      0.99      0.99     58476\n",
      "weighted avg       0.99      0.99      0.99     58476\n",
      "\n",
      "\n",
      "ROC AUC train : 0.99 \n",
      "\n",
      "\n",
      "Confusion matrix data train RF Tuning 2 best estimator\n",
      "\n",
      "\n",
      "      Pred1  Pred0\n",
      "Akt1  29234      4\n",
      "Akt0    506  28732\n"
     ]
    }
   ],
   "source": [
    "conf_mat(RF_Tune2, X_train_OS, X_test, y_train_OS, y_test, 'RF Tuning 2 best estimator')"
   ]
  },
  {
   "cell_type": "markdown",
   "metadata": {},
   "source": [
    "__3rd TUNING__"
   ]
  },
  {
   "cell_type": "code",
   "execution_count": 117,
   "metadata": {},
   "outputs": [],
   "source": [
    "# define the Random Forest parameter for the 3rd hyperparameter tuning\n",
    "\n",
    "param_RF3 = {\n",
    "    'algo__n_estimators' : np.arange(60, 150, 20),\n",
    "    'algo__max_depth' : list(np.arange(50, 150, 20)) + [None],\n",
    "    'algo__min_samples_leaf' : np.arange(1, 10, 2),\n",
    "    'algo__class_weight' : [None, {0:.4, 1:.6}, {0:.3, 1:.7}, {0:.2, 1:.8}, {0:.15, 1: .85}]\n",
    "}"
   ]
  },
  {
   "cell_type": "code",
   "execution_count": 118,
   "metadata": {},
   "outputs": [],
   "source": [
    "# using randomizedsearchcv method for hyperparameter tuning with precision score as a benchmark\n",
    "\n",
    "RF_RS3 = RandomizedSearchCV(pipe_RF, param_RF3, cv=skf, n_iter=200, n_jobs=-1, verbose=1, random_state=42, scoring='precision')"
   ]
  },
  {
   "cell_type": "code",
   "execution_count": 119,
   "metadata": {},
   "outputs": [
    {
     "name": "stdout",
     "output_type": "stream",
     "text": [
      "Fitting 3 folds for each of 200 candidates, totalling 600 fits\n"
     ]
    },
    {
     "name": "stderr",
     "output_type": "stream",
     "text": [
      "[Parallel(n_jobs=-1)]: Using backend LokyBackend with 8 concurrent workers.\n",
      "[Parallel(n_jobs=-1)]: Done  34 tasks      | elapsed:  1.1min\n",
      "[Parallel(n_jobs=-1)]: Done 184 tasks      | elapsed:  6.1min\n",
      "[Parallel(n_jobs=-1)]: Done 434 tasks      | elapsed: 13.7min\n",
      "[Parallel(n_jobs=-1)]: Done 600 out of 600 | elapsed: 18.8min finished\n"
     ]
    },
    {
     "data": {
      "text/plain": [
       "RandomizedSearchCV(cv=StratifiedKFold(n_splits=3, random_state=None, shuffle=False),\n",
       "                   estimator=Pipeline(steps=[('prep',\n",
       "                                              ColumnTransformer(transformers=[('numeric',\n",
       "                                                                               Pipeline(steps=[('scaler',\n",
       "                                                                                                RobustScaler())]),\n",
       "                                                                               ['age',\n",
       "                                                                                'education',\n",
       "                                                                                'pdays',\n",
       "                                                                                'previous',\n",
       "                                                                                'cons.price.idx',\n",
       "                                                                                'cons.conf.idx',\n",
       "                                                                                'euribor3m',\n",
       "                                                                                'nr.employed',\n",
       "                                                                                'emp.var.rate']),\n",
       "                                                                              ('categorical',\n",
       "                                                                               Pipeline(steps=[('...\n",
       "                                              RandomForestClassifier(random_state=42))]),\n",
       "                   n_iter=200, n_jobs=-1,\n",
       "                   param_distributions={'algo__class_weight': [None,\n",
       "                                                               {0: 0.4, 1: 0.6},\n",
       "                                                               {0: 0.3, 1: 0.7},\n",
       "                                                               {0: 0.2, 1: 0.8},\n",
       "                                                               {0: 0.15,\n",
       "                                                                1: 0.85}],\n",
       "                                        'algo__max_depth': [50, 70, 90, 110,\n",
       "                                                            130, None],\n",
       "                                        'algo__min_samples_leaf': array([1, 3, 5, 7, 9]),\n",
       "                                        'algo__n_estimators': array([ 60,  80, 100, 120, 140])},\n",
       "                   random_state=42, scoring='precision', verbose=1)"
      ]
     },
     "execution_count": 119,
     "metadata": {},
     "output_type": "execute_result"
    }
   ],
   "source": [
    "# run hyperparameter tuning\n",
    "\n",
    "RF_RS3.fit(X_train_OS, y_train_OS)"
   ]
  },
  {
   "cell_type": "code",
   "execution_count": 141,
   "metadata": {},
   "outputs": [
    {
     "data": {
      "text/plain": [
       "{'algo__n_estimators': 60,\n",
       " 'algo__min_samples_leaf': 1,\n",
       " 'algo__max_depth': 90,\n",
       " 'algo__class_weight': {0: 0.15, 1: 0.85}}"
      ]
     },
     "execution_count": 141,
     "metadata": {},
     "output_type": "execute_result"
    }
   ],
   "source": [
    "# show the best combination of parameters that create the best precision score\n",
    "\n",
    "RF_RS3.best_params_"
   ]
  },
  {
   "cell_type": "code",
   "execution_count": 142,
   "metadata": {},
   "outputs": [],
   "source": [
    "# Define Random Forest model after tuning that have the best parameter\n",
    "\n",
    "RF_Tune3 = RF_RS3.best_estimator_"
   ]
  },
  {
   "cell_type": "code",
   "execution_count": 143,
   "metadata": {},
   "outputs": [
    {
     "data": {
      "text/plain": [
       "Pipeline(steps=[('prep',\n",
       "                 ColumnTransformer(transformers=[('numeric',\n",
       "                                                  Pipeline(steps=[('scaler',\n",
       "                                                                   RobustScaler())]),\n",
       "                                                  ['age', 'education', 'pdays',\n",
       "                                                   'previous', 'cons.price.idx',\n",
       "                                                   'cons.conf.idx', 'euribor3m',\n",
       "                                                   'nr.employed',\n",
       "                                                   'emp.var.rate']),\n",
       "                                                 ('categorical',\n",
       "                                                  Pipeline(steps=[('encoder',\n",
       "                                                                   OneHotEncoder())]),\n",
       "                                                  ['job', 'marital', 'default',\n",
       "                                                   'housing', 'loan', 'contact',\n",
       "                                                   'month', 'day_of_week',\n",
       "                                                   'poutcome'])])),\n",
       "                ('algo',\n",
       "                 RandomForestClassifier(class_weight={0: 0.15, 1: 0.85},\n",
       "                                        max_depth=90, n_estimators=60,\n",
       "                                        random_state=42))])"
      ]
     },
     "execution_count": 143,
     "metadata": {},
     "output_type": "execute_result"
    }
   ],
   "source": [
    "RF_Tune3.fit(X_train_OS, y_train_OS)"
   ]
  },
  {
   "cell_type": "code",
   "execution_count": 144,
   "metadata": {},
   "outputs": [
    {
     "name": "stdout",
     "output_type": "stream",
     "text": [
      "Classification report data TEST RF Tuning 3 best estimator\n",
      "\n",
      "               precision    recall  f1-score   support\n",
      "\n",
      "           0       0.92      0.93      0.93      7310\n",
      "           1       0.43      0.39      0.41       928\n",
      "\n",
      "    accuracy                           0.87      8238\n",
      "   macro avg       0.68      0.66      0.67      8238\n",
      "weighted avg       0.87      0.87      0.87      8238\n",
      "\n",
      "\n",
      "ROC AUC test : 0.66 \n",
      "\n",
      "\n",
      "Confusion matrix data test RF Tuning 3 best estimator\n",
      "\n",
      "\n",
      "      Pred1  Pred0\n",
      "Akt1    366    562\n",
      "Akt0    479   6831\n",
      "====================================================================================================\n",
      "Classification report data TRAIN RF Tuning 3 best estimator\n",
      "\n",
      "               precision    recall  f1-score   support\n",
      "\n",
      "           0       1.00      0.98      0.99     29238\n",
      "           1       0.98      1.00      0.99     29238\n",
      "\n",
      "    accuracy                           0.99     58476\n",
      "   macro avg       0.99      0.99      0.99     58476\n",
      "weighted avg       0.99      0.99      0.99     58476\n",
      "\n",
      "\n",
      "ROC AUC train : 0.99 \n",
      "\n",
      "\n",
      "Confusion matrix data train RF Tuning 3 best estimator\n",
      "\n",
      "\n",
      "      Pred1  Pred0\n",
      "Akt1  29238      0\n",
      "Akt0    452  28786\n"
     ]
    }
   ],
   "source": [
    "conf_mat(RF_Tune3, X_train_OS, X_test, y_train_OS, y_test, 'RF Tuning 3 best estimator')"
   ]
  },
  {
   "cell_type": "markdown",
   "metadata": {},
   "source": [
    "_____________"
   ]
  },
  {
   "cell_type": "markdown",
   "metadata": {},
   "source": [
    "## HYPERPARAMETER TUNING XGB"
   ]
  },
  {
   "cell_type": "markdown",
   "metadata": {},
   "source": [
    "__DEFAULT PARAMETER__\n",
    "\n",
    "1. 'algo__n_estimators': 100,\n",
    "2. 'algo__max_depth': 6,\n",
    "3. 'algo__learning_rate': 0.300000012,\n",
    "4. 'algo__gamma': 0,\n",
    "5. 'algo__colsample_bytree': 1,\n",
    "6. 'algo__subsample': 1,\n",
    "7. 'algo__reg_alpha': 0,\n",
    "8. 'algo__reg_lambda': 1"
   ]
  },
  {
   "cell_type": "markdown",
   "metadata": {},
   "source": [
    "__1st Tuning__"
   ]
  },
  {
   "cell_type": "code",
   "execution_count": 124,
   "metadata": {},
   "outputs": [],
   "source": [
    "# define the XGBoost parameter for the 1st hyperparameter tuning\n",
    "\n",
    "param_XGB = {\n",
    "    'algo__n_estimators' : np.arange(100, 600, 100),\n",
    "    'algo__max_depth' : [2, 3, 5, 6, 8, 10],\n",
    "    'algo__learning_rate' : list(np.logspace(-3, 0, 4)) + [0.300000012],\n",
    "    'algo__gamma' : np.logspace(-3, 2, 6)\n",
    "#     'algo__colsample_bytree' : [0.3, 0.5, 0.7, 0.8],\n",
    "#     'algo__subsample' : [0.3, 0.5, 0.7, 0.8],\n",
    "#     'algo__reg_alpha' : np.logspace(-3, 3, 7),\n",
    "#     'algo__reg_lambda' : np.logspace(-3, 3, 7)\n",
    "}"
   ]
  },
  {
   "cell_type": "code",
   "execution_count": 125,
   "metadata": {},
   "outputs": [],
   "source": [
    "# using randomizedsearchcv method for hyperparameter tuning with precision score as a benchmark\n",
    "\n",
    "XGB_RS = RandomizedSearchCV(pipe_XGB, param_XGB, cv=skf, n_iter=200, n_jobs=-1, verbose=1, random_state=42, scoring='precision')"
   ]
  },
  {
   "cell_type": "code",
   "execution_count": 126,
   "metadata": {},
   "outputs": [
    {
     "name": "stdout",
     "output_type": "stream",
     "text": [
      "Fitting 3 folds for each of 200 candidates, totalling 600 fits\n"
     ]
    },
    {
     "name": "stderr",
     "output_type": "stream",
     "text": [
      "[Parallel(n_jobs=-1)]: Using backend LokyBackend with 8 concurrent workers.\n",
      "[Parallel(n_jobs=-1)]: Done  34 tasks      | elapsed:  6.0min\n",
      "[Parallel(n_jobs=-1)]: Done 184 tasks      | elapsed: 28.4min\n",
      "[Parallel(n_jobs=-1)]: Done 434 tasks      | elapsed: 65.1min\n",
      "[Parallel(n_jobs=-1)]: Done 600 out of 600 | elapsed: 93.2min finished\n"
     ]
    },
    {
     "name": "stdout",
     "output_type": "stream",
     "text": [
      "[10:57:52] WARNING: C:/Users/Administrator/workspace/xgboost-win64_release_1.4.0/src/learner.cc:1095: Starting in XGBoost 1.3.0, the default evaluation metric used with the objective 'binary:logistic' was changed from 'error' to 'logloss'. Explicitly set eval_metric if you'd like to restore the old behavior.\n"
     ]
    },
    {
     "data": {
      "text/plain": [
       "RandomizedSearchCV(cv=StratifiedKFold(n_splits=3, random_state=None, shuffle=False),\n",
       "                   estimator=Pipeline(steps=[('prep',\n",
       "                                              ColumnTransformer(transformers=[('numeric',\n",
       "                                                                               Pipeline(steps=[('scaler',\n",
       "                                                                                                RobustScaler())]),\n",
       "                                                                               ['age',\n",
       "                                                                                'education',\n",
       "                                                                                'pdays',\n",
       "                                                                                'previous',\n",
       "                                                                                'cons.price.idx',\n",
       "                                                                                'cons.conf.idx',\n",
       "                                                                                'euribor3m',\n",
       "                                                                                'nr.employed',\n",
       "                                                                                'emp.var.rate']),\n",
       "                                                                              ('categorical',\n",
       "                                                                               Pipeline(steps=[('...\n",
       "                                                            tree_method='exact',\n",
       "                                                            validate_parameters=1,\n",
       "                                                            verbosity=None))]),\n",
       "                   n_iter=200, n_jobs=-1,\n",
       "                   param_distributions={'algo__gamma': array([1.e-03, 1.e-02, 1.e-01, 1.e+00, 1.e+01, 1.e+02]),\n",
       "                                        'algo__learning_rate': [0.001, 0.01,\n",
       "                                                                0.1, 1.0,\n",
       "                                                                0.300000012],\n",
       "                                        'algo__max_depth': [2, 3, 5, 6, 8, 10],\n",
       "                                        'algo__n_estimators': array([100, 200, 300, 400, 500])},\n",
       "                   random_state=42, scoring='precision', verbose=1)"
      ]
     },
     "execution_count": 126,
     "metadata": {},
     "output_type": "execute_result"
    }
   ],
   "source": [
    "# run hyperparameter tuning\n",
    "\n",
    "XGB_RS.fit(X_train_OS, y_train_OS)"
   ]
  },
  {
   "cell_type": "code",
   "execution_count": 145,
   "metadata": {},
   "outputs": [
    {
     "data": {
      "text/plain": [
       "{'algo__n_estimators': 500,\n",
       " 'algo__max_depth': 10,\n",
       " 'algo__learning_rate': 0.300000012,\n",
       " 'algo__gamma': 0.01}"
      ]
     },
     "execution_count": 145,
     "metadata": {},
     "output_type": "execute_result"
    }
   ],
   "source": [
    "# show the best combination of parameters that create the best precision score\n",
    "\n",
    "XGB_RS.best_params_"
   ]
  },
  {
   "cell_type": "code",
   "execution_count": 146,
   "metadata": {},
   "outputs": [],
   "source": [
    "# Define XGBoost model after tuning that have the best parameter\n",
    "\n",
    "XGB_Tune = XGB_RS.best_estimator_"
   ]
  },
  {
   "cell_type": "code",
   "execution_count": 147,
   "metadata": {},
   "outputs": [
    {
     "name": "stdout",
     "output_type": "stream",
     "text": [
      "[11:05:03] WARNING: C:/Users/Administrator/workspace/xgboost-win64_release_1.4.0/src/learner.cc:1095: Starting in XGBoost 1.3.0, the default evaluation metric used with the objective 'binary:logistic' was changed from 'error' to 'logloss'. Explicitly set eval_metric if you'd like to restore the old behavior.\n"
     ]
    },
    {
     "data": {
      "text/plain": [
       "Pipeline(steps=[('prep',\n",
       "                 ColumnTransformer(transformers=[('numeric',\n",
       "                                                  Pipeline(steps=[('scaler',\n",
       "                                                                   RobustScaler())]),\n",
       "                                                  ['age', 'education', 'pdays',\n",
       "                                                   'previous', 'cons.price.idx',\n",
       "                                                   'cons.conf.idx', 'euribor3m',\n",
       "                                                   'nr.employed',\n",
       "                                                   'emp.var.rate']),\n",
       "                                                 ('categorical',\n",
       "                                                  Pipeline(steps=[('encoder',\n",
       "                                                                   OneHotEncoder())]),\n",
       "                                                  ['job', 'marital', 'default',\n",
       "                                                   'housing', 'loan', 'contact',\n",
       "                                                   'month', 'd...\n",
       "                               colsample_bytree=1, gamma=0.01, gpu_id=-1,\n",
       "                               importance_type='gain',\n",
       "                               interaction_constraints='',\n",
       "                               learning_rate=0.300000012, max_delta_step=0,\n",
       "                               max_depth=10, min_child_weight=1, missing=nan,\n",
       "                               monotone_constraints='()', n_estimators=500,\n",
       "                               n_jobs=8, num_parallel_tree=1, random_state=0,\n",
       "                               reg_alpha=0, reg_lambda=1, scale_pos_weight=1,\n",
       "                               subsample=1, tree_method='exact',\n",
       "                               validate_parameters=1, verbosity=None))])"
      ]
     },
     "execution_count": 147,
     "metadata": {},
     "output_type": "execute_result"
    }
   ],
   "source": [
    "XGB_Tune.fit(X_train_OS, y_train_OS)"
   ]
  },
  {
   "cell_type": "code",
   "execution_count": 148,
   "metadata": {},
   "outputs": [
    {
     "name": "stdout",
     "output_type": "stream",
     "text": [
      "Classification report data TEST XGB Tuning 1 best estimator\n",
      "\n",
      "               precision    recall  f1-score   support\n",
      "\n",
      "           0       0.92      0.93      0.93      7310\n",
      "           1       0.41      0.40      0.40       928\n",
      "\n",
      "    accuracy                           0.87      8238\n",
      "   macro avg       0.67      0.66      0.66      8238\n",
      "weighted avg       0.87      0.87      0.87      8238\n",
      "\n",
      "\n",
      "ROC AUC test : 0.66 \n",
      "\n",
      "\n",
      "Confusion matrix data test XGB Tuning 1 best estimator\n",
      "\n",
      "\n",
      "      Pred1  Pred0\n",
      "Akt1    370    558\n",
      "Akt0    536   6774\n",
      "====================================================================================================\n",
      "Classification report data TRAIN XGB Tuning 1 best estimator\n",
      "\n",
      "               precision    recall  f1-score   support\n",
      "\n",
      "           0       1.00      0.98      0.99     29238\n",
      "           1       0.98      1.00      0.99     29238\n",
      "\n",
      "    accuracy                           0.99     58476\n",
      "   macro avg       0.99      0.99      0.99     58476\n",
      "weighted avg       0.99      0.99      0.99     58476\n",
      "\n",
      "\n",
      "ROC AUC train : 0.99 \n",
      "\n",
      "\n",
      "Confusion matrix data train XGB Tuning 1 best estimator\n",
      "\n",
      "\n",
      "      Pred1  Pred0\n",
      "Akt1  29228     10\n",
      "Akt0    451  28787\n"
     ]
    }
   ],
   "source": [
    "conf_mat(XGB_Tune, X_train_OS, X_test, y_train_OS, y_test, 'XGB Tuning 1 best estimator')"
   ]
  },
  {
   "cell_type": "markdown",
   "metadata": {},
   "source": [
    "### COMPARING THE PRECISION OF ALL MODEL AFTER HYPERPARAMETER TUNING"
   ]
  },
  {
   "cell_type": "markdown",
   "metadata": {},
   "source": [
    "================================================================================================"
   ]
  },
  {
   "cell_type": "code",
   "execution_count": 151,
   "metadata": {},
   "outputs": [],
   "source": [
    "# Input the model to def function Evaluation Matrix \n",
    "\n",
    "tabel_banding = prec_rec (\n",
    "    [pipe_LR, pipe_KNN, pipe_SVM, pipe_DT, pipe_RF, pipe_XGB, LR_Tune, LR_Tune2, DT_Tune, DT_Tune2, RF_Tune,\n",
    "     RF_Tune2, RF_Tune3, XGB_Tune],\n",
    "    X_test, y_test,\n",
    "    ['LR_Base', 'KNN_Base', 'SVM_Base', 'DT_Base', 'RF_Base', 'XGB_Base', 'LR_HPT_BE 1', 'LR_HPT_BE 2',\n",
    "     'DT_HPT_BE 1', 'DT_HPT_BE 2', 'RF_HPT_BE 1', 'RF_HPT_BE 2', 'RF_HPT_BE 3', 'XGB_HPT_BE 1']\n",
    ").T"
   ]
  },
  {
   "cell_type": "code",
   "execution_count": 163,
   "metadata": {},
   "outputs": [
    {
     "data": {
      "text/html": [
       "<div>\n",
       "<style scoped>\n",
       "    .dataframe tbody tr th:only-of-type {\n",
       "        vertical-align: middle;\n",
       "    }\n",
       "\n",
       "    .dataframe tbody tr th {\n",
       "        vertical-align: top;\n",
       "    }\n",
       "\n",
       "    .dataframe thead th {\n",
       "        text-align: right;\n",
       "    }\n",
       "</style>\n",
       "<table border=\"1\" class=\"dataframe\">\n",
       "  <thead>\n",
       "    <tr style=\"text-align: right;\">\n",
       "      <th></th>\n",
       "      <th>Precison</th>\n",
       "      <th>Recall</th>\n",
       "    </tr>\n",
       "  </thead>\n",
       "  <tbody>\n",
       "    <tr>\n",
       "      <th>LR_HPT_BE 2</th>\n",
       "      <td>0.647059</td>\n",
       "      <td>0.201509</td>\n",
       "    </tr>\n",
       "    <tr>\n",
       "      <th>RF_Base</th>\n",
       "      <td>0.446784</td>\n",
       "      <td>0.411638</td>\n",
       "    </tr>\n",
       "    <tr>\n",
       "      <th>RF_HPT_BE 1</th>\n",
       "      <td>0.445882</td>\n",
       "      <td>0.408405</td>\n",
       "    </tr>\n",
       "    <tr>\n",
       "      <th>RF_HPT_BE 3</th>\n",
       "      <td>0.433136</td>\n",
       "      <td>0.394397</td>\n",
       "    </tr>\n",
       "    <tr>\n",
       "      <th>RF_HPT_BE 2</th>\n",
       "      <td>0.413879</td>\n",
       "      <td>0.359914</td>\n",
       "    </tr>\n",
       "  </tbody>\n",
       "</table>\n",
       "</div>"
      ],
      "text/plain": [
       "             Precison    Recall\n",
       "LR_HPT_BE 2  0.647059  0.201509\n",
       "RF_Base      0.446784  0.411638\n",
       "RF_HPT_BE 1  0.445882  0.408405\n",
       "RF_HPT_BE 3  0.433136  0.394397\n",
       "RF_HPT_BE 2  0.413879  0.359914"
      ]
     },
     "execution_count": 163,
     "metadata": {},
     "output_type": "execute_result"
    }
   ],
   "source": [
    "# create table that show 5 model with the best precision \n",
    "\n",
    "tabel_banding = tabel_banding.sort_values(by='Precison', ascending=False)\n",
    "tabel_banding.head()"
   ]
  },
  {
   "cell_type": "markdown",
   "metadata": {},
   "source": [
    "# CONCLUSION"
   ]
  },
  {
   "cell_type": "code",
   "execution_count": 285,
   "metadata": {},
   "outputs": [
    {
     "data": {
      "text/plain": [
       "'We use Logistic Regression (after the 2nd Hyperparameter tuning) with precison : 0.65 and recall : 0.2'"
      ]
     },
     "execution_count": 285,
     "metadata": {},
     "output_type": "execute_result"
    }
   ],
   "source": [
    "f\"We use Logistic Regression (after the 2nd Hyperparameter tuning) with precison : {(round(tabel_banding['Precison'][0], 2))} and recall : {(round(tabel_banding['Recall'][0], 2))}\""
   ]
  },
  {
   "cell_type": "markdown",
   "metadata": {},
   "source": [
    "# SUGGESTION"
   ]
  },
  {
   "cell_type": "markdown",
   "metadata": {},
   "source": [
    "We need to add __costumer account balance__ feature that have greater impact to the model because before someone decide to take/buy a deposit, they surely gonna check their account balance first to see if they have enough money or not  "
   ]
  },
  {
   "cell_type": "markdown",
   "metadata": {},
   "source": [
    "_____________"
   ]
  },
  {
   "cell_type": "markdown",
   "metadata": {},
   "source": [
    "# PREDICT"
   ]
  },
  {
   "cell_type": "markdown",
   "metadata": {},
   "source": [
    "__all_data__"
   ]
  },
  {
   "cell_type": "code",
   "execution_count": 984,
   "metadata": {},
   "outputs": [],
   "source": [
    "# create the table/dataframe for all data\n",
    "\n",
    "df_all = pd.concat([X, y], axis=1)\n",
    "df_all = df_all.reset_index()\n",
    "df_all = df_all.drop(columns=['index'])"
   ]
  },
  {
   "cell_type": "code",
   "execution_count": 985,
   "metadata": {},
   "outputs": [],
   "source": [
    "# predict all people (in test data) that gonna take the deposit or not\n",
    "\n",
    "y_all_predict = LR_Tune2.predict(X)\n",
    "df_all['y_predict LR'] = y_all_predict # create new column for y predict"
   ]
  },
  {
   "cell_type": "code",
   "execution_count": 1009,
   "metadata": {},
   "outputs": [
    {
     "data": {
      "text/html": [
       "<div>\n",
       "<style scoped>\n",
       "    .dataframe tbody tr th:only-of-type {\n",
       "        vertical-align: middle;\n",
       "    }\n",
       "\n",
       "    .dataframe tbody tr th {\n",
       "        vertical-align: top;\n",
       "    }\n",
       "\n",
       "    .dataframe thead th {\n",
       "        text-align: right;\n",
       "    }\n",
       "</style>\n",
       "<table border=\"1\" class=\"dataframe\">\n",
       "  <thead>\n",
       "    <tr style=\"text-align: right;\">\n",
       "      <th>y_predict LR</th>\n",
       "      <th>0</th>\n",
       "      <th>1</th>\n",
       "    </tr>\n",
       "    <tr>\n",
       "      <th>y</th>\n",
       "      <th></th>\n",
       "      <th></th>\n",
       "    </tr>\n",
       "  </thead>\n",
       "  <tbody>\n",
       "    <tr>\n",
       "      <th>0</th>\n",
       "      <td>36000</td>\n",
       "      <td>548</td>\n",
       "    </tr>\n",
       "    <tr>\n",
       "      <th>1</th>\n",
       "      <td>3673</td>\n",
       "      <td>967</td>\n",
       "    </tr>\n",
       "  </tbody>\n",
       "</table>\n",
       "</div>"
      ],
      "text/plain": [
       "y_predict LR      0    1\n",
       "y                       \n",
       "0             36000  548\n",
       "1              3673  967"
      ]
     },
     "execution_count": 1009,
     "metadata": {},
     "output_type": "execute_result"
    }
   ],
   "source": [
    "# showing confusion matrix\n",
    "\n",
    "pd.crosstab(index=df_all['y'], columns = df_all['y_predict LR'])"
   ]
  },
  {
   "cell_type": "code",
   "execution_count": 1005,
   "metadata": {},
   "outputs": [
    {
     "data": {
      "image/png": "[encoded data removed]",
      "text/plain": [
       "<Figure size 360x576 with 1 Axes>"
      ]
     },
     "metadata": {
      "needs_background": "light"
     },
     "output_type": "display_data"
    }
   ],
   "source": [
    "#Make a Bar Graph for Amount of each Values in Prediction Column\n",
    "\n",
    "plt.figure(figsize=(5,8))\n",
    "ax = sns.countplot(x=\"y_predict LR\", data=df_all)\n",
    "ax.set_title('Amount of each Values in y_predict LR', fontsize=15)\n",
    "for p in ax.patches:\n",
    "    ax.annotate(f'\\n{p.get_height()}', (p.get_x()+.25, p.get_height()), \n",
    "                size=15\n",
    "               )\n",
    "plt.show()"
   ]
  },
  {
   "cell_type": "markdown",
   "metadata": {},
   "source": [
    "_____________"
   ]
  },
  {
   "cell_type": "markdown",
   "metadata": {},
   "source": [
    "# PREDICT PROBA"
   ]
  },
  {
   "cell_type": "markdown",
   "metadata": {},
   "source": [
    "__all_data__"
   ]
  },
  {
   "cell_type": "code",
   "execution_count": 1006,
   "metadata": {},
   "outputs": [],
   "source": [
    "# predict the probability of one person to take the deposit or not\n",
    "\n",
    "y_all_predictproba = LR_Tune2.predict_proba(X)"
   ]
  },
  {
   "cell_type": "code",
   "execution_count": 1007,
   "metadata": {},
   "outputs": [],
   "source": [
    "# input the data to df_all\n",
    "\n",
    "df_all_predictproba = pd.DataFrame(y_all_predictproba) # create new dataframe for prediction of the probability\n",
    "df_all_predictproba = df_all_predictproba.rename(columns={0: \"predict_proba LR 0\", 1: \"predict_proba LR 1\"})"
   ]
  },
  {
   "cell_type": "code",
   "execution_count": 1008,
   "metadata": {},
   "outputs": [],
   "source": [
    "# Combine df_all with df that contain prediction of the probability\n",
    "\n",
    "df_all = pd.concat([df_all, df_all_predictproba], axis=1)"
   ]
  },
  {
   "cell_type": "code",
   "execution_count": 1010,
   "metadata": {},
   "outputs": [
    {
     "data": {
      "image/png": "[encoded data removed]",
      "text/plain": [
       "<Figure size 1440x576 with 1 Axes>"
      ]
     },
     "metadata": {
      "needs_background": "light"
     },
     "output_type": "display_data"
    }
   ],
   "source": [
    "# Showing the distribution of probability of buying the deposit for each people\n",
    "\n",
    "plt.figure(figsize=(20,8))\n",
    "plt.hist(df_all['predict_proba LR 1'], bins=100)\n",
    "plt.show()"
   ]
  },
  {
   "cell_type": "code",
   "execution_count": 1011,
   "metadata": {},
   "outputs": [],
   "source": [
    "# binning the probability of buying the deposit for each people\n",
    "\n",
    "proba1_bin = [-1,0.3,0.6,df_all['predict_proba LR 1'].max()]\n",
    "label_proba1 = ['< 0.3', '0.3 - 0.6', '> 0.6']\n",
    "df_all['proba1_bin'] = pd.cut(df_all['predict_proba LR 1'], bins=proba1_bin, labels=label_proba1)"
   ]
  },
  {
   "cell_type": "code",
   "execution_count": 1019,
   "metadata": {},
   "outputs": [
    {
     "data": {
      "image/png": "[encoded data removed]",
      "text/plain": [
       "<Figure size 1440x720 with 1 Axes>"
      ]
     },
     "metadata": {
      "needs_background": "light"
     },
     "output_type": "display_data"
    }
   ],
   "source": [
    "#Make a Bar Graph for Amount of each Values in group of Porbability 1 column for every value in Predict column (y_predict)\n",
    "\n",
    "plt.figure(figsize=(20,10))\n",
    "ax = sns.countplot(x=\"proba1_bin\", hue=\"y_predict LR\", data=df_all)\n",
    "ax.set_title('Amount of each Values in group of Porbability 1 for each value in y_predict LR', fontsize=20)\n",
    "for p in ax.patches:\n",
    "    ax.annotate(f'\\n{p.get_height()}', (p.get_x()+.1, p.get_height()+500), \n",
    "                size=18\n",
    "               )\n",
    "plt.show()"
   ]
  },
  {
   "cell_type": "code",
   "execution_count": 1020,
   "metadata": {},
   "outputs": [],
   "source": [
    "# del df_all"
   ]
  },
  {
   "cell_type": "markdown",
   "metadata": {},
   "source": [
    "_______________\n",
    "__Simulation__\n",
    "_______________"
   ]
  },
  {
   "cell_type": "markdown",
   "metadata": {},
   "source": [
    "___1st SIMULATION (SUM DURATION APPROACH)___"
   ]
  },
  {
   "cell_type": "markdown",
   "metadata": {},
   "source": [
    "__Assume__ : \n",
    "- all df data is new data\n",
    "- Cost driven by two main things : __Call Charges per Minutes__, __Salary__\n",
    "- The campaign duration is can be adjust\n",
    "- __call charges__ : 0.3 euro per minutes\n",
    "https://www.lonelyplanet.com/portugal/narratives/practical-information/directory/telephone#:~:text=Local%2C%20Regional%20%26%20National%20Calls&text=Local%20calls%20cost%20around%20%E2%82%AC,from%20anywhere%20in%20the%20country.\n",
    "\n",
    "- __Salary__ : 1600 euro/person/month\n",
    "http://www.salaryexplorer.com/salary-survey.php?loc=174&loctype=1&job=12702&jobtype=3\n",
    "\n",
    "- 4 hours/240 minutes of call that can handled by 1 employee per day "
   ]
  },
  {
   "cell_type": "markdown",
   "metadata": {},
   "source": [
    "### After Modelling"
   ]
  },
  {
   "cell_type": "code",
   "execution_count": 1042,
   "metadata": {},
   "outputs": [
    {
     "data": {
      "image/png": "[encoded data removed]",
      "text/plain": [
       "<Figure size 720x540 with 1 Axes>"
      ]
     },
     "metadata": {
      "needs_background": "light"
     },
     "output_type": "display_data"
    }
   ],
   "source": [
    "plt.figure(figsize=(10,7.5))\n",
    "ax = sns.countplot(x=\"proba1_bin\", hue=\"y\", data=df_all)\n",
    "ax.set_title('Amount of each Values in group of Porbability 1 for each value in y actual\\n', fontsize=18)\n",
    "for p in ax.patches:\n",
    "    ax.annotate(f'\\n{p.get_height()}', (p.get_x()+.009, p.get_height()+500), \n",
    "                size=15\n",
    "               )\n",
    "plt.show()"
   ]
  },
  {
   "cell_type": "markdown",
   "metadata": {},
   "source": [
    "Based on the model simulation (thershold :0.3 and 0.6) :\n",
    "- people that have probability to buy a deposit < 0.3 = 0\n",
    "- people that have probability to buy a deposit between 0.3 & 0.6 = 39673\n",
    "- people that have probability to buy a deposit > 0.6 = 1515\n",
    "\n",
    "If we assume for people that have bank account more than 30,000 Euro (from total people that have probability to buy a deposit between 0.3 & 0.6) is people that buy the deposit in actual (`df_all[(df_all['proba1_bin'] == '0.3 - 0.6') & (df_all['y'] == 1)]`)"
   ]
  },
  {
   "cell_type": "markdown",
   "metadata": {},
   "source": [
    "### After Modelling"
   ]
  },
  {
   "cell_type": "code",
   "execution_count": 1022,
   "metadata": {},
   "outputs": [
    {
     "data": {
      "text/plain": [
       "2698619"
      ]
     },
     "execution_count": 1022,
     "metadata": {},
     "output_type": "execute_result"
    }
   ],
   "source": [
    "# total duration after modelling\n",
    "\n",
    "df_all['duration'] = df['duration'] # adding column duration to df_all\n",
    "td_after = (df_all[(df_all['proba1_bin'] == '0.3 - 0.6') & (df_all['y'] == 1)]['duration'].sum()) + df_all[(df_all['proba1_bin'] == '> 0.6')]['duration'].sum()\n",
    "# extracting the sum of duration\n",
    "\n",
    "td_after # show the duration after using the model"
   ]
  },
  {
   "cell_type": "code",
   "execution_count": 1023,
   "metadata": {},
   "outputs": [
    {
     "data": {
      "text/plain": [
       "3.0"
      ]
     },
     "execution_count": 1023,
     "metadata": {},
     "output_type": "execute_result"
    }
   ],
   "source": [
    "# employee needed after modelling\n",
    "\n",
    "round(((td_after/(20*3) # find the duration per days from 20 working days per month if the project take 2 months to finish\n",
    "       )/60 # convert the duration from second to minutes\n",
    "      )/240 # if one person have onle 4 hours or 240 minutes time to do telemarketing per day\n",
    "      , 0) # round up the numbers into 0 digit after comma"
   ]
  },
  {
   "cell_type": "code",
   "execution_count": 1024,
   "metadata": {},
   "outputs": [
    {
     "name": "stdout",
     "output_type": "stream",
     "text": [
      "Table Cost simulation after modelling\n"
     ]
    },
    {
     "data": {
      "text/html": [
       "<div>\n",
       "<style scoped>\n",
       "    .dataframe tbody tr th:only-of-type {\n",
       "        vertical-align: middle;\n",
       "    }\n",
       "\n",
       "    .dataframe tbody tr th {\n",
       "        vertical-align: top;\n",
       "    }\n",
       "\n",
       "    .dataframe thead th {\n",
       "        text-align: right;\n",
       "    }\n",
       "</style>\n",
       "<table border=\"1\" class=\"dataframe\">\n",
       "  <thead>\n",
       "    <tr style=\"text-align: right;\">\n",
       "      <th></th>\n",
       "      <th>Price</th>\n",
       "      <th>Quantity</th>\n",
       "      <th>Frequency</th>\n",
       "      <th>total for all months</th>\n",
       "    </tr>\n",
       "  </thead>\n",
       "  <tbody>\n",
       "    <tr>\n",
       "      <th>Call Charges</th>\n",
       "      <td>0.3</td>\n",
       "      <td>1</td>\n",
       "      <td>44977</td>\n",
       "      <td>13493.094</td>\n",
       "    </tr>\n",
       "    <tr>\n",
       "      <th>Salary</th>\n",
       "      <td>1600</td>\n",
       "      <td>3</td>\n",
       "      <td>3</td>\n",
       "      <td>14400.000</td>\n",
       "    </tr>\n",
       "    <tr>\n",
       "      <th>Total</th>\n",
       "      <td>Total</td>\n",
       "      <td>Total</td>\n",
       "      <td>Total</td>\n",
       "      <td>27893.094</td>\n",
       "    </tr>\n",
       "  </tbody>\n",
       "</table>\n",
       "</div>"
      ],
      "text/plain": [
       "              Price Quantity Frequency  total for all months\n",
       "Call Charges    0.3        1     44977             13493.094\n",
       "Salary         1600        3         3             14400.000\n",
       "Total         Total    Total     Total             27893.094"
      ]
     },
     "execution_count": 1024,
     "metadata": {},
     "output_type": "execute_result"
    }
   ],
   "source": [
    "data={\n",
    "    'Price' :{\n",
    "        'Call Charges' :  0.3, # 0.3 euro per minutes for call charges\n",
    "        'Salary' : 1600 # 1600 euro per month per person for telemarketing salary\n",
    "    },\n",
    "    'Quantity' :{\n",
    "        'Call Charges' :  1, #\n",
    "        'Salary' : 3 # 3 employee for the campaign\n",
    "    },\n",
    "    'Frequency' : {\n",
    "        'Call Charges' :  round(td_after/60, 2), # the duration of call (in minutes) that required after using the model\n",
    "        'Salary' : 3 # 3 months to finish the campaign\n",
    "    }\n",
    "}\n",
    "\n",
    "print('Table Cost simulation after modelling')\n",
    "after1 = pd.DataFrame(data)\n",
    "after1['total for all months'] = after1['Price']*after1['Quantity']*after1['Frequency'] # adding columns that contain total cost \n",
    "# that we needed for a certain sector in 2 months\n",
    "\n",
    "total_after1 = {\n",
    "    'Price': 'Total',\n",
    "    'Quantity' : 'Total',\n",
    "    'Frequency' : 'Total',\n",
    "    'total for all months' : after1['total for all months'].sum()\n",
    "} # make new dictionary that have he sum of total cost for all sector in 2 months\n",
    "\n",
    "new_row1 = pd.Series(total_after1, name='Total') # make a series of the dict\n",
    "after1 = after1.append(new_row1) # make a new row\n",
    "after1"
   ]
  },
  {
   "cell_type": "markdown",
   "metadata": {},
   "source": [
    "### Before Modelling"
   ]
  },
  {
   "cell_type": "code",
   "execution_count": 1025,
   "metadata": {},
   "outputs": [
    {
     "data": {
      "text/plain": [
       "177304.05"
      ]
     },
     "execution_count": 1025,
     "metadata": {},
     "output_type": "execute_result"
    }
   ],
   "source": [
    "# total duration before\n",
    "\n",
    "(df_all['duration'].sum())/60"
   ]
  },
  {
   "cell_type": "code",
   "execution_count": 1026,
   "metadata": {},
   "outputs": [
    {
     "data": {
      "text/plain": [
       "4.0"
      ]
     },
     "execution_count": 1026,
     "metadata": {},
     "output_type": "execute_result"
    }
   ],
   "source": [
    "# emp needed before\n",
    "\n",
    "round(((df_all['duration'].sum()/(20*10) # find the duration per days from 20 working days per month if the project\n",
    "        # take 10 months to finish\n",
    "       )/60 # convert the duration from second to minutes\n",
    "      )/240, # if one person have onle 4 hours or 240 minutes time to do telemarketing per day\n",
    "      0) # round up the numbers into 0 digit after comma"
   ]
  },
  {
   "cell_type": "code",
   "execution_count": 1027,
   "metadata": {},
   "outputs": [
    {
     "name": "stdout",
     "output_type": "stream",
     "text": [
      "Table Cost simulation before modelling\n"
     ]
    },
    {
     "data": {
      "text/html": [
       "<div>\n",
       "<style scoped>\n",
       "    .dataframe tbody tr th:only-of-type {\n",
       "        vertical-align: middle;\n",
       "    }\n",
       "\n",
       "    .dataframe tbody tr th {\n",
       "        vertical-align: top;\n",
       "    }\n",
       "\n",
       "    .dataframe thead th {\n",
       "        text-align: right;\n",
       "    }\n",
       "</style>\n",
       "<table border=\"1\" class=\"dataframe\">\n",
       "  <thead>\n",
       "    <tr style=\"text-align: right;\">\n",
       "      <th></th>\n",
       "      <th>Price</th>\n",
       "      <th>Quantity</th>\n",
       "      <th>Frequency</th>\n",
       "      <th>total for all months</th>\n",
       "    </tr>\n",
       "  </thead>\n",
       "  <tbody>\n",
       "    <tr>\n",
       "      <th>Call Charges</th>\n",
       "      <td>0.3</td>\n",
       "      <td>1</td>\n",
       "      <td>177304</td>\n",
       "      <td>53191.215</td>\n",
       "    </tr>\n",
       "    <tr>\n",
       "      <th>Salary</th>\n",
       "      <td>1600</td>\n",
       "      <td>4</td>\n",
       "      <td>10</td>\n",
       "      <td>64000.000</td>\n",
       "    </tr>\n",
       "    <tr>\n",
       "      <th>Total</th>\n",
       "      <td>Total</td>\n",
       "      <td>Total</td>\n",
       "      <td>Total</td>\n",
       "      <td>117191.215</td>\n",
       "    </tr>\n",
       "  </tbody>\n",
       "</table>\n",
       "</div>"
      ],
      "text/plain": [
       "              Price Quantity Frequency  total for all months\n",
       "Call Charges    0.3        1    177304             53191.215\n",
       "Salary         1600        4        10             64000.000\n",
       "Total         Total    Total     Total            117191.215"
      ]
     },
     "execution_count": 1027,
     "metadata": {},
     "output_type": "execute_result"
    }
   ],
   "source": [
    "data2={\n",
    "    'Price' :{\n",
    "        'Call Charges' :  0.3, # 0.3 euro per minutes for call charges\n",
    "        'Salary' : 1600 # 1600 euro per month per person for telemarketing salary\n",
    "    },\n",
    "    'Quantity' :{\n",
    "        'Call Charges' :  1, #\n",
    "        'Salary' : 4 # 4 employee for the campaign\n",
    "    },\n",
    "    'Frequency' : {\n",
    "        'Call Charges' :  (df_all['duration'].sum())/60, # the duration of call (in minutes) that required Before using the model\n",
    "        'Salary' : 10 # 10 months to finish the campaign\n",
    "    }\n",
    "}\n",
    "\n",
    "print('Table Cost simulation before modelling')\n",
    "before1 = pd.DataFrame(data2)\n",
    "before1['total for all months'] = before1['Price']*before1['Quantity']*before1['Frequency']# adding columns that contain\n",
    "# total cost that we needed for a certain sector in 2 months\n",
    "\n",
    "total_before1 = {\n",
    "    'Price': 'Total',\n",
    "    'Quantity' : 'Total',\n",
    "    'Frequency' : 'Total',\n",
    "    'total for all months' : before1['total for all months'].sum()\n",
    "}# make new dictionary that have he sum of total cost for all sector in 10 months\n",
    "\n",
    "new_row2 = pd.Series(total_before1, name='Total')# make a series of the dict\n",
    "before1 = before1.append(new_row2)# make a new row\n",
    "before1"
   ]
  },
  {
   "cell_type": "markdown",
   "metadata": {},
   "source": [
    "### Combined the Simulation Table Before and After Modelling"
   ]
  },
  {
   "cell_type": "code",
   "execution_count": 1028,
   "metadata": {},
   "outputs": [
    {
     "data": {
      "text/html": [
       "<div>\n",
       "<style scoped>\n",
       "    .dataframe tbody tr th:only-of-type {\n",
       "        vertical-align: middle;\n",
       "    }\n",
       "\n",
       "    .dataframe tbody tr th {\n",
       "        vertical-align: top;\n",
       "    }\n",
       "\n",
       "    .dataframe thead th {\n",
       "        text-align: right;\n",
       "    }\n",
       "</style>\n",
       "<table border=\"1\" class=\"dataframe\">\n",
       "  <thead>\n",
       "    <tr style=\"text-align: right;\">\n",
       "      <th></th>\n",
       "      <th></th>\n",
       "      <th>Price</th>\n",
       "      <th>Quantity</th>\n",
       "      <th>Frequency</th>\n",
       "      <th>total for all months</th>\n",
       "    </tr>\n",
       "  </thead>\n",
       "  <tbody>\n",
       "    <tr>\n",
       "      <th rowspan=\"3\" valign=\"top\">Before</th>\n",
       "      <th>Call Charges</th>\n",
       "      <td>0.3</td>\n",
       "      <td>1</td>\n",
       "      <td>177304</td>\n",
       "      <td>53191.215</td>\n",
       "    </tr>\n",
       "    <tr>\n",
       "      <th>Salary</th>\n",
       "      <td>1600</td>\n",
       "      <td>4</td>\n",
       "      <td>10</td>\n",
       "      <td>64000.000</td>\n",
       "    </tr>\n",
       "    <tr>\n",
       "      <th>Total</th>\n",
       "      <td>Total</td>\n",
       "      <td>Total</td>\n",
       "      <td>Total</td>\n",
       "      <td>117191.215</td>\n",
       "    </tr>\n",
       "    <tr>\n",
       "      <th rowspan=\"3\" valign=\"top\">After</th>\n",
       "      <th>Call Charges</th>\n",
       "      <td>0.3</td>\n",
       "      <td>1</td>\n",
       "      <td>44977</td>\n",
       "      <td>13493.094</td>\n",
       "    </tr>\n",
       "    <tr>\n",
       "      <th>Salary</th>\n",
       "      <td>1600</td>\n",
       "      <td>3</td>\n",
       "      <td>3</td>\n",
       "      <td>14400.000</td>\n",
       "    </tr>\n",
       "    <tr>\n",
       "      <th>Total</th>\n",
       "      <td>Total</td>\n",
       "      <td>Total</td>\n",
       "      <td>Total</td>\n",
       "      <td>27893.094</td>\n",
       "    </tr>\n",
       "  </tbody>\n",
       "</table>\n",
       "</div>"
      ],
      "text/plain": [
       "                     Price Quantity Frequency  total for all months\n",
       "Before Call Charges    0.3        1    177304             53191.215\n",
       "       Salary         1600        4        10             64000.000\n",
       "       Total         Total    Total     Total            117191.215\n",
       "After  Call Charges    0.3        1     44977             13493.094\n",
       "       Salary         1600        3         3             14400.000\n",
       "       Total         Total    Total     Total             27893.094"
      ]
     },
     "execution_count": 1028,
     "metadata": {},
     "output_type": "execute_result"
    }
   ],
   "source": [
    "result1 = pd.concat([before1, after1], keys=[\"Before\", \"After\"])\n",
    "result1"
   ]
  },
  {
   "cell_type": "code",
   "execution_count": 1029,
   "metadata": {},
   "outputs": [
    {
     "name": "stdout",
     "output_type": "stream",
     "text": [
      "Cost after using the model can be more efficient up to 89298.121 euro saving, 76.2% decline\n"
     ]
    }
   ],
   "source": [
    "saving1= result1.loc['Before', 'Total']['total for all months']-result1.loc['After', 'Total']['total for all months']\n",
    "# extract the total cost before and after the modelling\n",
    "\n",
    "string1 = f\"Cost after using the model can be more efficient up to {saving1} euro saving,\" # show the amount of cost saving\n",
    "string2 = f\"{round((saving1/result1.loc['Before', 'Total']['total for all months'])*100, 2)}% decline\" # show the cost reduction\n",
    "\n",
    "print(string1, string2)"
   ]
  },
  {
   "cell_type": "markdown",
   "metadata": {},
   "source": [
    "_______________\n",
    "__Export Model__\n",
    "_______________"
   ]
  },
  {
   "cell_type": "code",
   "execution_count": 1031,
   "metadata": {},
   "outputs": [],
   "source": [
    "# joblib.dump(LR_Tune2, 'Model_LR.jbl')"
   ]
  }
 ],
 "metadata": {
  "kernelspec": {
   "display_name": "Python 3",
   "language": "python",
   "name": "python3"
  },
  "language_info": {
   "codemirror_mode": {
    "name": "ipython",
    "version": 3
   },
   "file_extension": ".py",
   "mimetype": "text/x-python",
   "name": "python",
   "nbconvert_exporter": "python",
   "pygments_lexer": "ipython3",
   "version": "3.8.5"
  }
 },
 "nbformat": 4,
 "nbformat_minor": 4
}
